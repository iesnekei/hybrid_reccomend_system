{
 "cells": [
  {
   "cell_type": "markdown",
   "id": "642cc985",
   "metadata": {},
   "source": [
    "# 1.  IMPORTS"
   ]
  },
  {
   "cell_type": "code",
   "execution_count": 1,
   "id": "04820d34",
   "metadata": {},
   "outputs": [],
   "source": [
    "import pandas as pd\n",
    "import numpy as np\n",
    "import matplotlib.pyplot as plt\n",
    "import seaborn as sns\n",
    "%matplotlib inline\n",
    "from termcolor import colored\n",
    "from tqdm import tqdm\n",
    "\n",
    "\n",
    "from scipy.sparse import csr_matrix\n",
    "from implicit import als\n",
    "\n",
    "\n",
    "from metrics import precision_at_k, recall_at_k, calc_recall, calc_precision, rerank_long, user_pred, user_pred_1\n",
    "from utils import prefilter_items\n",
    "from recommenders import MainRecommender\n",
    "\n",
    "from catboost import CatBoostClassifier, Pool\n",
    "from sklearn.preprocessing import StandardScaler"
   ]
  },
  {
   "cell_type": "markdown",
   "id": "af0c625c",
   "metadata": {},
   "source": [
    "# 2. DOWNLOAD DATA"
   ]
  },
  {
   "cell_type": "code",
   "execution_count": 496,
   "id": "ad86a24d",
   "metadata": {},
   "outputs": [],
   "source": [
    "data = pd.read_csv('retail_train.csv')\n",
    "item_features = pd.read_csv('product.csv')\n",
    "user_features = pd.read_csv('hh_demographic.csv')"
   ]
  },
  {
   "cell_type": "markdown",
   "id": "1c0e086b",
   "metadata": {},
   "source": [
    "# 3. IMPORTANT VARIABLE"
   ]
  },
  {
   "cell_type": "code",
   "execution_count": 497,
   "id": "9e450ea7",
   "metadata": {},
   "outputs": [],
   "source": [
    "VAL_MATCHER_WEEKS = 6\n",
    "VAL_RANKER_WEEKS = 3\n",
    "_n_popular = 50000\n",
    "TOPK_PRECISION = 5\n",
    "N_PREDICT = 200\n",
    "ACTUAL_COL = 'actual'\n",
    "CLEAN_ = False\n",
    "# common_users find in part 7\n",
    "LEAVE_CAT = True  # see part 14 and 15\n",
    "STANDART = False"
   ]
  },
  {
   "cell_type": "markdown",
   "id": "77c66242",
   "metadata": {},
   "source": [
    "# 4. COLUMNS "
   ]
  },
  {
   "cell_type": "code",
   "execution_count": 498,
   "id": "a5a47b28",
   "metadata": {},
   "outputs": [],
   "source": [
    "ITEM_COL = 'item_id'\n",
    "USER_COL = 'user_id'\n",
    "# What user really bought \n",
    "ACTUAL_COL = 'actual'"
   ]
  },
  {
   "cell_type": "code",
   "execution_count": 499,
   "id": "9c409858",
   "metadata": {},
   "outputs": [],
   "source": [
    "item_features.columns = [col.lower() for col in item_features.columns]\n",
    "user_features.columns = [col.lower() for col in user_features.columns]\n",
    "\n",
    "item_features.rename(columns={'product_id': ITEM_COL}, inplace=True)\n",
    "user_features.rename(columns={'household_key': USER_COL }, inplace=True)"
   ]
  },
  {
   "cell_type": "markdown",
   "id": "895769ea",
   "metadata": {},
   "source": [
    "# 5. TRAIN - VALIDATION SPLIT"
   ]
  },
  {
   "cell_type": "code",
   "execution_count": 500,
   "id": "a5cc307b",
   "metadata": {},
   "outputs": [
    {
     "name": "stdout",
     "output_type": "stream",
     "text": [
      "VAL_MATCHER_WEEKS = \u001b[31m6\u001b[0m ,VAL_RANKER_WEEKS = \u001b[31m3\u001b[0m\n",
      "Total  \u001b[31m95\u001b[0m weeks\n",
      "train_matcher has \u001b[31m85\u001b[0m weeks\n",
      "val_matcher has \u001b[31m6\u001b[0m weeks\n",
      "train_ranker has \u001b[31m6\u001b[0m weeks\n",
      "val_ranker has \u001b[31m4\u001b[0m weeks\n"
     ]
    }
   ],
   "source": [
    "# FIND VAL_MATCHER_WEEKS & VAL_RANKER_WEEKS in Part 3\n",
    "train_matcher = data[data['week_no'] < data['week_no'].max() - (VAL_MATCHER_WEEKS + VAL_RANKER_WEEKS)]\n",
    "val_matcher= data[(data['week_no'] >= data['week_no'].max() - (VAL_MATCHER_WEEKS + VAL_RANKER_WEEKS)) &\n",
    "                      (data['week_no'] < data['week_no'].max() - (VAL_RANKER_WEEKS))]\n",
    "\n",
    "train_ranker = val_matcher.copy() \n",
    "val_ranker = data[data['week_no'] >= data['week_no'].max() - VAL_RANKER_WEEKS]\n",
    "\n",
    "print('VAL_MATCHER_WEEKS =', colored(VAL_MATCHER_WEEKS, 'red'), ',VAL_RANKER_WEEKS =', colored(VAL_RANKER_WEEKS, 'red'))\n",
    "print('Total ',colored(data.week_no.max(), 'red'), 'weeks')\n",
    "print('train_matcher has',colored(train_matcher.week_no.max(), 'red'), 'weeks')\n",
    "print('val_matcher has',colored(val_matcher.week_no.max() - train_matcher.week_no.max() , 'red'), 'weeks')\n",
    "print('train_ranker has',colored(train_ranker.week_no.max() - train_matcher.week_no.max(), 'red'), 'weeks')\n",
    "print('val_ranker has',colored(val_ranker.week_no.max() - train_ranker.week_no.max(), 'red'), 'weeks')"
   ]
  },
  {
   "cell_type": "markdown",
   "id": "dec715c2",
   "metadata": {},
   "source": [
    "# 6. REDUCE ITEMS "
   ]
  },
  {
   "cell_type": "code",
   "execution_count": 501,
   "id": "8befb740",
   "metadata": {},
   "outputs": [
    {
     "name": "stderr",
     "output_type": "stream",
     "text": [
      "/Users/kensei/Downloads/webinar_6/utils.py:20: SettingWithCopyWarning: \n",
      "A value is trying to be set on a copy of a slice from a DataFrame.\n",
      "Try using .loc[row_indexer,col_indexer] = value instead\n",
      "\n",
      "See the caveats in the documentation: https://pandas.pydata.org/pandas-docs/stable/user_guide/indexing.html#returning-a-view-versus-a-copy\n",
      "  data['price'] = data['sales_value'] / (np.maximum(data['quantity'], 1))\n"
     ]
    },
    {
     "name": "stdout",
     "output_type": "stream",
     "text": [
      "Decreased # items from 83685 to 50001\n"
     ]
    }
   ],
   "source": [
    "n_items_before = train_matcher['item_id'].nunique()\n",
    "\n",
    "# FIND _n_popular in part 3\n",
    "train_matcher = prefilter_items(train_matcher, item_features=item_features, take_n_popular=_n_popular)\n",
    "\n",
    "n_items_after = train_matcher['item_id'].nunique()\n",
    "\n",
    "print('Decreased # items from {} to {}'.format(n_items_before, n_items_after))"
   ]
  },
  {
   "cell_type": "markdown",
   "id": "bb5452d7",
   "metadata": {},
   "source": [
    "# 7. \"SOLVE\" COLD START PROBLEM"
   ]
  },
  {
   "cell_type": "code",
   "execution_count": 502,
   "id": "c69b7550",
   "metadata": {},
   "outputs": [],
   "source": [
    "common_users = train_matcher.user_id.values\n",
    "\n",
    "val_matcher = val_matcher[val_matcher.user_id.isin(common_users)]\n",
    "train_ranker = train_ranker[train_ranker.user_id.isin(common_users)]\n",
    "val_ranker = val_ranker[val_ranker.user_id.isin(common_users)]\n",
    "\n",
    "#P.S. We don't think about how solve cold start problem in this project"
   ]
  },
  {
   "cell_type": "markdown",
   "id": "333ca7c4",
   "metadata": {},
   "source": [
    "# 8. FID UP RECCOMENDER"
   ]
  },
  {
   "cell_type": "code",
   "execution_count": 503,
   "id": "8b0c4b20",
   "metadata": {},
   "outputs": [
    {
     "data": {
      "application/vnd.jupyter.widget-view+json": {
       "model_id": "d912da22fb7446198d4b44222c63d2e1",
       "version_major": 2,
       "version_minor": 0
      },
      "text/plain": [
       "  0%|          | 0/15 [00:00<?, ?it/s]"
      ]
     },
     "metadata": {},
     "output_type": "display_data"
    },
    {
     "data": {
      "application/vnd.jupyter.widget-view+json": {
       "model_id": "532b1310fa98426784b93056c27d20d6",
       "version_major": 2,
       "version_minor": 0
      },
      "text/plain": [
       "  0%|          | 0/50001 [00:00<?, ?it/s]"
      ]
     },
     "metadata": {},
     "output_type": "display_data"
    }
   ],
   "source": [
    "recommender = MainRecommender(train_matcher)"
   ]
  },
  {
   "cell_type": "markdown",
   "id": "a844dd98",
   "metadata": {},
   "source": [
    "# 9. CREATE DF WITH ITEM WAS BOUTH BY USER FOR VALIDATION DATA"
   ]
  },
  {
   "cell_type": "code",
   "execution_count": 504,
   "id": "7d2d85c5",
   "metadata": {
    "scrolled": true
   },
   "outputs": [
    {
     "name": "stdout",
     "output_type": "stream",
     "text": [
      "Items were bought by user in last \u001b[31m6\u001b[0m weeks\n"
     ]
    },
    {
     "data": {
      "text/html": [
       "<div>\n",
       "<style scoped>\n",
       "    .dataframe tbody tr th:only-of-type {\n",
       "        vertical-align: middle;\n",
       "    }\n",
       "\n",
       "    .dataframe tbody tr th {\n",
       "        vertical-align: top;\n",
       "    }\n",
       "\n",
       "    .dataframe thead th {\n",
       "        text-align: right;\n",
       "    }\n",
       "</style>\n",
       "<table border=\"1\" class=\"dataframe\">\n",
       "  <thead>\n",
       "    <tr style=\"text-align: right;\">\n",
       "      <th></th>\n",
       "      <th>user_id</th>\n",
       "      <th>actual</th>\n",
       "    </tr>\n",
       "  </thead>\n",
       "  <tbody>\n",
       "    <tr>\n",
       "      <th>0</th>\n",
       "      <td>1</td>\n",
       "      <td>[853529, 865456, 867607, 872137, 874905, 87524...</td>\n",
       "    </tr>\n",
       "    <tr>\n",
       "      <th>1</th>\n",
       "      <td>2</td>\n",
       "      <td>[15830248, 838136, 839656, 861272, 866211, 870...</td>\n",
       "    </tr>\n",
       "  </tbody>\n",
       "</table>\n",
       "</div>"
      ],
      "text/plain": [
       "   user_id                                             actual\n",
       "0        1  [853529, 865456, 867607, 872137, 874905, 87524...\n",
       "1        2  [15830248, 838136, 839656, 861272, 866211, 870..."
      ]
     },
     "execution_count": 504,
     "metadata": {},
     "output_type": "execute_result"
    }
   ],
   "source": [
    "# FIND ACTUAL_COL & USER_COL in part 4\n",
    "print('Items were bought by user in last',colored(val_matcher.week_no.max() - train_matcher.week_no.max() , 'red'), 'weeks')\n",
    "result_val_matcher = val_matcher.groupby(USER_COL)[ITEM_COL].unique().reset_index()\n",
    "result_val_matcher.columns=[USER_COL, ACTUAL_COL]\n",
    "result_val_matcher.head(2)"
   ]
  },
  {
   "cell_type": "code",
   "execution_count": 505,
   "id": "ac80f96c",
   "metadata": {},
   "outputs": [
    {
     "name": "stdout",
     "output_type": "stream",
     "text": [
      "Validation Data User activity\n",
      "User buy \u001b[31m66\u001b[0m items per \u001b[31m6\u001b[0m weeks.\n",
      "User buy \u001b[31m11\u001b[0m items per week.\n"
     ]
    }
   ],
   "source": [
    "# mean len of shopping cart for validation data\n",
    "print('Validation Data User activity')\n",
    "print('User buy', colored(round(np.array([len(i) for i in result_val_matcher.actual]).mean()), 'red'),'items per',colored(val_matcher.week_no.max() - train_matcher.week_no.max() , 'red'), 'weeks.')\n",
    "print('User buy', colored(round(np.array([len(i) for i in result_val_matcher.actual]).mean()/6), 'red'),'items per week.')"
   ]
  },
  {
   "cell_type": "markdown",
   "id": "57d9e07b",
   "metadata": {},
   "source": [
    "# 10. RECCOMEND"
   ]
  },
  {
   "cell_type": "code",
   "execution_count": 506,
   "id": "ac098ede",
   "metadata": {},
   "outputs": [],
   "source": [
    "# # FIND N_PREDICT in part 3\n",
    "result_val_matcher['rec_by_als'] = result_val_matcher[USER_COL].apply(lambda user: recommender.get_als_recommendations(user, N=N_PREDICT))"
   ]
  },
  {
   "cell_type": "code",
   "execution_count": 507,
   "id": "a826c61b",
   "metadata": {},
   "outputs": [],
   "source": [
    "result_val_matcher['own_rec'] = result_val_matcher[USER_COL].apply(lambda user : recommender.get_own_recommendations(user, N=N_PREDICT))"
   ]
  },
  {
   "cell_type": "code",
   "execution_count": 508,
   "id": "6b4dec2e",
   "metadata": {},
   "outputs": [
    {
     "name": "stdout",
     "output_type": "stream",
     "text": [
      "RECALL OF Recommend\n",
      "own_rec 0.07596768223754194\n",
      "rec_by_als 0.06557339798113053\n"
     ]
    }
   ],
   "source": [
    "print('RECALL OF Recommend')\n",
    "for i in sorted(calc_recall(result_val_matcher, N_PREDICT), key=lambda x: x[1],reverse=True):\n",
    "    print(i[0], i[1])"
   ]
  },
  {
   "cell_type": "markdown",
   "id": "7cdc0c6d",
   "metadata": {},
   "source": [
    "# 11. GET USER - RECCOMENDED ITEM DF"
   ]
  },
  {
   "cell_type": "code",
   "execution_count": 509,
   "id": "6bc154db",
   "metadata": {},
   "outputs": [
    {
     "name": "stdout",
     "output_type": "stream",
     "text": [
      "This 6 weeks we have 2151 active users.\n"
     ]
    }
   ],
   "source": [
    "match_items = pd.DataFrame(train_ranker[USER_COL].unique())\n",
    "match_items.columns = [USER_COL]\n",
    "print('This 6 weeks we have',match_items[USER_COL].nunique(), 'active users.')"
   ]
  },
  {
   "cell_type": "code",
   "execution_count": 510,
   "id": "a7bcc20a",
   "metadata": {},
   "outputs": [],
   "source": [
    "match_items['rec_items'] = match_items[USER_COL].apply(lambda x: recommender.get_own_recommendations(x, N=N_PREDICT))"
   ]
  },
  {
   "cell_type": "code",
   "execution_count": 511,
   "id": "2d6275f8",
   "metadata": {},
   "outputs": [
    {
     "name": "stdout",
     "output_type": "stream",
     "text": [
      "6 week at total we would recommend users \u001b[31m430200\u001b[0m items.\n"
     ]
    }
   ],
   "source": [
    "df_items = match_items.apply(lambda x: pd.Series(x['rec_items']), axis=1).stack().reset_index(level=1, drop=True)\n",
    "df_items.name = 'item_id'\n",
    "print('6 week at total we would recommend users', colored(len(df_items), 'red'), 'items.')"
   ]
  },
  {
   "cell_type": "code",
   "execution_count": 512,
   "id": "7e41ce61",
   "metadata": {},
   "outputs": [
    {
     "data": {
      "text/html": [
       "<div>\n",
       "<style scoped>\n",
       "    .dataframe tbody tr th:only-of-type {\n",
       "        vertical-align: middle;\n",
       "    }\n",
       "\n",
       "    .dataframe tbody tr th {\n",
       "        vertical-align: top;\n",
       "    }\n",
       "\n",
       "    .dataframe thead th {\n",
       "        text-align: right;\n",
       "    }\n",
       "</style>\n",
       "<table border=\"1\" class=\"dataframe\">\n",
       "  <thead>\n",
       "    <tr style=\"text-align: right;\">\n",
       "      <th></th>\n",
       "      <th>user_id</th>\n",
       "      <th>item_id</th>\n",
       "    </tr>\n",
       "  </thead>\n",
       "  <tbody>\n",
       "    <tr>\n",
       "      <th>0</th>\n",
       "      <td>2070</td>\n",
       "      <td>1088026</td>\n",
       "    </tr>\n",
       "    <tr>\n",
       "      <th>0</th>\n",
       "      <td>2070</td>\n",
       "      <td>6442443</td>\n",
       "    </tr>\n",
       "    <tr>\n",
       "      <th>0</th>\n",
       "      <td>2070</td>\n",
       "      <td>9245184</td>\n",
       "    </tr>\n",
       "  </tbody>\n",
       "</table>\n",
       "</div>"
      ],
      "text/plain": [
       "   user_id  item_id\n",
       "0     2070  1088026\n",
       "0     2070  6442443\n",
       "0     2070  9245184"
      ]
     },
     "execution_count": 512,
     "metadata": {},
     "output_type": "execute_result"
    }
   ],
   "source": [
    "match_items = match_items.drop('rec_items', axis=1).join(df_items)\n",
    "match_items.head(3)"
   ]
  },
  {
   "cell_type": "markdown",
   "id": "1567ec87",
   "metadata": {},
   "source": [
    "# 12. INCREASE FEATURE FOR  USER - RECCOMENDED ITEM DF"
   ]
  },
  {
   "cell_type": "markdown",
   "id": "6980a146",
   "metadata": {},
   "source": [
    "## 12.1 Target"
   ]
  },
  {
   "cell_type": "code",
   "execution_count": 513,
   "id": "c297c750",
   "metadata": {},
   "outputs": [
    {
     "name": "stdout",
     "output_type": "stream",
     "text": [
      "\u001b[31m2.42\u001b[0m % of Items have positive target.\n"
     ]
    }
   ],
   "source": [
    "ranker_train = train_ranker[[USER_COL, ITEM_COL]].copy() # find train_ranker in 5 part\n",
    "ranker_train['target'] = 1  \n",
    "\n",
    "ranker_train = match_items.merge(ranker_train, on=[USER_COL, ITEM_COL], how='left')\n",
    "\n",
    "ranker_train['target'].fillna(0, inplace= True)\n",
    "print(colored(f\"{ranker_train['target'].mean() * 100 :.2f}\", 'red'), '% of Items have positive target.')"
   ]
  },
  {
   "cell_type": "markdown",
   "id": "c4102559",
   "metadata": {},
   "source": [
    "## 12.2 User And Item Features"
   ]
  },
  {
   "cell_type": "code",
   "execution_count": 514,
   "id": "ffa0c79f",
   "metadata": {},
   "outputs": [],
   "source": [
    "ranker_train = ranker_train.merge(item_features, on='item_id', how='left')\n",
    "ranker_train = ranker_train.merge(user_features, on='user_id', how='left')"
   ]
  },
  {
   "cell_type": "markdown",
   "id": "18a89e4c",
   "metadata": {},
   "source": [
    "## 12.3 Drop some 0 target"
   ]
  },
  {
   "cell_type": "code",
   "execution_count": 515,
   "id": "02869636",
   "metadata": {},
   "outputs": [],
   "source": [
    " # FIND CLEAN_ in part 3\n",
    "if CLEAN_:\n",
    "    ranker_train_negative = ranker_train[ranker_train['target'] == 0]\n",
    "    index_drop = [i for i in range(0, len(ranker_train_negative), 2)]\n",
    "    \n",
    "    ranker_train_negative = ranker_train_negative.drop(ranker_train_negative.index[index_drop])\n",
    "    ranker_train_positive = ranker_train[ranker_train['target'] == 1]\n",
    "    ranker_train = pd.concat([ranker_train_negative, ranker_train_positive])"
   ]
  },
  {
   "cell_type": "markdown",
   "id": "51674e3f",
   "metadata": {},
   "source": [
    "## 12.4 Item quantity sold"
   ]
  },
  {
   "cell_type": "code",
   "execution_count": 516,
   "id": "ce193596",
   "metadata": {},
   "outputs": [],
   "source": [
    "# Agregate data\n",
    "# WE USE HERE ALL DATA, BUT ALSO WE CAN YOU ONLY TRAIN DATA\n",
    "item_n_sold = data.groupby('item_id')['quantity'].sum().reset_index()\n",
    "item_n_sold.columns=['item_id', 'item_sold']\n",
    "# Convert to list\n",
    "item_l = item_n_sold.item_id.tolist()\n",
    "i_income = item_n_sold.item_sold.tolist()\n",
    "# Create a dict for high perfomance in future\n",
    "sale_dict = {}\n",
    "for i in range(len(item_l)):\n",
    "    sale_dict[item_l[i]] = i_income[i]"
   ]
  },
  {
   "cell_type": "code",
   "execution_count": 517,
   "id": "3711c149",
   "metadata": {},
   "outputs": [
    {
     "name": "stderr",
     "output_type": "stream",
     "text": [
      "100%|██████████| 432878/432878 [00:00<00:00, 1029705.43it/s]\n"
     ]
    }
   ],
   "source": [
    "tqdm.pandas()\n",
    "ranker_train['i_quantity_sold'] = ranker_train['item_id'].progress_apply(lambda x: sale_dict[x])"
   ]
  },
  {
   "cell_type": "code",
   "execution_count": 518,
   "id": "d6a9ae17",
   "metadata": {},
   "outputs": [
    {
     "data": {
      "text/plain": [
       "count    432878.000000\n",
       "mean        725.707784\n",
       "std        1876.437407\n",
       "min           1.000000\n",
       "25%          20.000000\n",
       "50%          59.000000\n",
       "75%         837.000000\n",
       "max       28384.000000\n",
       "Name: i_quantity_sold, dtype: float64"
      ]
     },
     "execution_count": 518,
     "metadata": {},
     "output_type": "execute_result"
    }
   ],
   "source": [
    "ranker_train['i_quantity_sold'].describe()"
   ]
  },
  {
   "cell_type": "code",
   "execution_count": 519,
   "id": "0e7592ed",
   "metadata": {},
   "outputs": [
    {
     "data": {
      "text/plain": [
       "Text(0.5, 1.0, 'Mean sold quantity of different target items')"
      ]
     },
     "execution_count": 519,
     "metadata": {},
     "output_type": "execute_result"
    },
    {
     "data": {
      "image/png": "[encoded data removed]",
      "text/plain": [
       "<Figure size 432x288 with 1 Axes>"
      ]
     },
     "metadata": {
      "needs_background": "light"
     },
     "output_type": "display_data"
    }
   ],
   "source": [
    "plt.bar(height=ranker_train[ranker_train.target == 0].i_quantity_sold.mean(), x='item 0') # user didn't buy\n",
    "plt.bar(height=ranker_train[ranker_train.target == 1].i_quantity_sold.mean(), x='item 1') # user bought it\n",
    "plt.bar(height=ranker_train.i_quantity_sold.mean(), x='total') # mean for all kind\n",
    "plt.title('Mean sold quantity of different target items')"
   ]
  },
  {
   "cell_type": "markdown",
   "id": "70f29bf0",
   "metadata": {},
   "source": [
    "## 12.5 User total bought value"
   ]
  },
  {
   "cell_type": "code",
   "execution_count": 520,
   "id": "379d981e",
   "metadata": {},
   "outputs": [],
   "source": [
    "user_buy = data.groupby('user_id')['sales_value'].sum().reset_index()\n",
    "user_buy.columns=['user_id', 'total_buy']\n",
    "item_l = user_buy.user_id.tolist()\n",
    "i_income = user_buy.total_buy.tolist()\n",
    "sale_dict = {}\n",
    "for i in range(len(item_l)):\n",
    "    sale_dict[item_l[i]] = i_income[i]"
   ]
  },
  {
   "cell_type": "code",
   "execution_count": 521,
   "id": "5804f883",
   "metadata": {},
   "outputs": [
    {
     "name": "stderr",
     "output_type": "stream",
     "text": [
      "100%|██████████| 432878/432878 [00:00<00:00, 1045909.75it/s]\n"
     ]
    }
   ],
   "source": [
    "ranker_train['user_total_buy'] = ranker_train.user_id.progress_apply(lambda x: sale_dict[x])"
   ]
  },
  {
   "cell_type": "code",
   "execution_count": 522,
   "id": "6124f090",
   "metadata": {
    "scrolled": true
   },
   "outputs": [
    {
     "data": {
      "text/plain": [
       "count    432878.000000\n",
       "mean       3323.332364\n",
       "std        3211.872868\n",
       "min          47.900000\n",
       "25%        1132.170000\n",
       "50%        2304.580000\n",
       "75%        4515.800000\n",
       "max       34869.040000\n",
       "Name: user_total_buy, dtype: float64"
      ]
     },
     "execution_count": 522,
     "metadata": {},
     "output_type": "execute_result"
    }
   ],
   "source": [
    "ranker_train['user_total_buy'].describe()"
   ]
  },
  {
   "cell_type": "markdown",
   "id": "4f303ccc",
   "metadata": {},
   "source": [
    "## 12.6 Item total sold value"
   ]
  },
  {
   "cell_type": "code",
   "execution_count": 523,
   "id": "fdff72f7",
   "metadata": {},
   "outputs": [],
   "source": [
    "item_sale = data.groupby('item_id')['sales_value'].sum().reset_index()\n",
    "item_sale.columns=['item_id', 'total_income']\n",
    "\n",
    "item_l = item_sale.item_id.tolist()\n",
    "i_income = item_sale.total_income.tolist()\n",
    "\n",
    "sale_dict = {}\n",
    "for i in range(len(item_l)):\n",
    "    sale_dict[item_l[i]] = i_income[i]"
   ]
  },
  {
   "cell_type": "code",
   "execution_count": 524,
   "id": "1cac563d",
   "metadata": {},
   "outputs": [
    {
     "name": "stderr",
     "output_type": "stream",
     "text": [
      "100%|██████████| 432878/432878 [00:00<00:00, 1006608.03it/s]\n"
     ]
    }
   ],
   "source": [
    "ranker_train['item_total_sold'] = ranker_train.item_id.progress_apply(lambda x: sale_dict[x])"
   ]
  },
  {
   "cell_type": "markdown",
   "id": "69c98bcc",
   "metadata": {},
   "source": [
    "## 12.7  Users buy per week"
   ]
  },
  {
   "cell_type": "code",
   "execution_count": 525,
   "id": "565f8d93",
   "metadata": {},
   "outputs": [],
   "source": [
    "ranker_train['user_buy_per_week'] = ranker_train['user_total_buy'] / 95"
   ]
  },
  {
   "cell_type": "markdown",
   "id": "e44424cf",
   "metadata": {},
   "source": [
    "## 12.8 User buy this item value per week"
   ]
  },
  {
   "cell_type": "code",
   "execution_count": 526,
   "id": "5896f489",
   "metadata": {},
   "outputs": [],
   "source": [
    "ranker_train['u_buy_item_weekly'] = 0\n",
    "ranker_train.loc[ranker_train['target'] == 1, 'u_buy_item_weekly'] = ranker_train['item_total_sold'] / 95"
   ]
  },
  {
   "cell_type": "markdown",
   "id": "44179a1f",
   "metadata": {},
   "source": [
    "## 12.9 Item in 100, 500, 1000 popular"
   ]
  },
  {
   "cell_type": "code",
   "execution_count": 527,
   "id": "523535cc",
   "metadata": {},
   "outputs": [],
   "source": [
    "popularity = data.groupby('item_id')['sales_value'].sum().reset_index()\n",
    "sort_popular = popularity.sort_values('sales_value')\n",
    "sort_popular = sort_popular.item_id.tolist()"
   ]
  },
  {
   "cell_type": "code",
   "execution_count": 528,
   "id": "7d8a172d",
   "metadata": {},
   "outputs": [],
   "source": [
    "ranker_train['top_100'] = ranker_train.item_id.apply(lambda x: 1 if x in sort_popular[-100:] else 0)\n",
    "ranker_train['top_500'] = ranker_train.item_id.apply(lambda x: 1 if x in sort_popular[-500:] else 0)\n",
    "ranker_train['top_1000'] = ranker_train.item_id.apply(lambda x: 1 if x in sort_popular[-1000:] else 0)"
   ]
  },
  {
   "cell_type": "markdown",
   "id": "9205db32",
   "metadata": {},
   "source": [
    "## 12.10 CONVERT CATEGORY"
   ]
  },
  {
   "cell_type": "code",
   "execution_count": 529,
   "id": "1b531840",
   "metadata": {},
   "outputs": [],
   "source": [
    "ranker_train['brand'] = ranker_train['brand'].replace(['National', 'Private'],[0, 1])"
   ]
  },
  {
   "cell_type": "code",
   "execution_count": 530,
   "id": "b7969b8e",
   "metadata": {},
   "outputs": [],
   "source": [
    "ranker_train.age_desc = ranker_train.age_desc.fillna(ranker_train.age_desc.mode()[0])\n",
    "\n",
    "ages_ = {}\n",
    "uniq_ages_ = ranker_train.age_desc.unique()\n",
    "for i in range(len(uniq_ages_)):\n",
    "    ages_[uniq_ages_[i]] = i\n",
    "\n",
    "ranker_train['age_desc'] = [ages_[x] for x in ranker_train['age_desc']]"
   ]
  },
  {
   "cell_type": "code",
   "execution_count": 531,
   "id": "7777a004",
   "metadata": {},
   "outputs": [],
   "source": [
    "ranker_train.kid_category_desc = ranker_train.kid_category_desc.fillna(ranker_train.kid_category_desc.mode()[0])\n",
    "\n",
    "kind_cat_ = {}\n",
    "uniq_kind_ = ranker_train.kid_category_desc.unique()\n",
    "for i in range(len(uniq_kind_)):\n",
    "    kind_cat_[uniq_kind_[i]] = i\n",
    "\n",
    "ranker_train['kid_category_desc'] = [kind_cat_[x] for x in ranker_train['kid_category_desc']]"
   ]
  },
  {
   "cell_type": "markdown",
   "id": "65f241e2",
   "metadata": {},
   "source": [
    "## 12.11 User buy popular item or not"
   ]
  },
  {
   "cell_type": "code",
   "execution_count": 532,
   "id": "0d429366",
   "metadata": {},
   "outputs": [],
   "source": [
    "ranker_train['user_buy_popular'] = 0\n",
    "ranker_train.loc[(ranker_train['target'] == 1) & (ranker_train['top_100'] == 1), 'user_buy_popular'] = 1"
   ]
  },
  {
   "cell_type": "code",
   "execution_count": 533,
   "id": "13fd8c27",
   "metadata": {},
   "outputs": [],
   "source": [
    "ranker_train['user_buy_not_popular'] = 0\n",
    "ranker_train.loc[(ranker_train['target'] == 1) & (ranker_train['top_100'] != 1) & (ranker_train['top_500'] != 1) & (ranker_train['top_1000'] != 1), 'user_buy_not_popular'] = 1"
   ]
  },
  {
   "cell_type": "markdown",
   "id": "05373c0b",
   "metadata": {},
   "source": [
    "## 12.12 Item bought by coupon"
   ]
  },
  {
   "cell_type": "code",
   "execution_count": 534,
   "id": "9985c2b9",
   "metadata": {},
   "outputs": [],
   "source": [
    "item_sale = data.groupby('item_id')['coupon_disc'].sum().reset_index()\n",
    "item_sale.columns=['item_id', 'i_coupon_disc']\n",
    "\n",
    "item_l = item_sale.item_id.tolist()\n",
    "i_income = item_sale.i_coupon_disc.tolist()\n",
    "\n",
    "sale_dict = {}\n",
    "for i in range(len(item_l)):\n",
    "    sale_dict[item_l[i]] = i_income[i]"
   ]
  },
  {
   "cell_type": "code",
   "execution_count": 535,
   "id": "071828d1",
   "metadata": {},
   "outputs": [
    {
     "name": "stderr",
     "output_type": "stream",
     "text": [
      "100%|██████████| 432878/432878 [00:00<00:00, 1007968.23it/s]\n"
     ]
    }
   ],
   "source": [
    "ranker_train['i_coupon_disc'] = ranker_train.item_id.progress_apply(lambda x: sale_dict[x])"
   ]
  },
  {
   "cell_type": "markdown",
   "id": "12168632",
   "metadata": {},
   "source": [
    "## 12.13 User used coupon"
   ]
  },
  {
   "cell_type": "code",
   "execution_count": 536,
   "id": "afec0a4c",
   "metadata": {},
   "outputs": [],
   "source": [
    "item_sale = data.groupby('user_id')['coupon_disc'].sum().reset_index()\n",
    "item_sale.columns=['user_id', 'u_coupon_disc']\n",
    "\n",
    "item_l = item_sale.user_id.tolist()\n",
    "i_income = item_sale.u_coupon_disc.tolist()\n",
    "\n",
    "sale_dict = {}\n",
    "for i in range(len(item_l)):\n",
    "    sale_dict[item_l[i]] = i_income[i]"
   ]
  },
  {
   "cell_type": "code",
   "execution_count": 537,
   "id": "88f45658",
   "metadata": {},
   "outputs": [
    {
     "name": "stderr",
     "output_type": "stream",
     "text": [
      "100%|██████████| 432878/432878 [00:00<00:00, 1053869.96it/s]\n"
     ]
    }
   ],
   "source": [
    "ranker_train['u_coupon_disc'] = ranker_train.user_id.progress_apply(lambda x: sale_dict[x])"
   ]
  },
  {
   "cell_type": "markdown",
   "id": "9c638d66",
   "metadata": {},
   "source": [
    "## 12.14 Scaler"
   ]
  },
  {
   "cell_type": "code",
   "execution_count": 538,
   "id": "e54f672f",
   "metadata": {},
   "outputs": [],
   "source": [
    "if STANDART: \n",
    "    scaler = StandardScaler()\n",
    "    ranker_train[['user_id', 'item_id', 'target', 'brand','manufacturer',\n",
    "       'age_desc', 'kid_category_desc',\n",
    "       'i_quantity_sold', 'user_total_buy', 'item_total_sold',\n",
    "       'user_buy_per_week', 'u_buy_item_weekly', 'top_100', 'top_500',\n",
    "       'top_1000', 'user_buy_popular', 'user_buy_not_popular', 'i_coupon_disc',\n",
    "       'u_coupon_disc']] = scaler.fit_transform(ranker_train[['user_id', 'item_id', 'target', 'brand', 'manufacturer',\n",
    "       'age_desc', 'kid_category_desc',\n",
    "       'i_quantity_sold', 'user_total_buy', 'item_total_sold',\n",
    "       'user_buy_per_week', 'u_buy_item_weekly', 'top_100', 'top_500',\n",
    "       'top_1000', 'user_buy_popular', 'user_buy_not_popular', 'i_coupon_disc',\n",
    "       'u_coupon_disc']])"
   ]
  },
  {
   "cell_type": "markdown",
   "id": "7862c2e2",
   "metadata": {},
   "source": [
    "## 12.15 DEL"
   ]
  },
  {
   "cell_type": "code",
   "execution_count": 539,
   "id": "c04958d0",
   "metadata": {},
   "outputs": [],
   "source": [
    "# ranker_train = ranker_train.drop([ 'manufacturer', 'age_desc', 'kid_category_desc'], axis=1)"
   ]
  },
  {
   "cell_type": "code",
   "execution_count": 540,
   "id": "0407ee94",
   "metadata": {},
   "outputs": [],
   "source": [
    "ranker_train = ranker_train.drop(['u_coupon_disc', 'brand', 'i_coupon_disc',], axis=1)"
   ]
  },
  {
   "cell_type": "markdown",
   "id": "ce4d7735",
   "metadata": {},
   "source": [
    "# 13. Data for arrange"
   ]
  },
  {
   "cell_type": "code",
   "execution_count": 541,
   "id": "a6f7b9e9",
   "metadata": {},
   "outputs": [],
   "source": [
    "X_train = ranker_train.drop('target', axis=1)\n",
    "y_train = ranker_train[['target']]"
   ]
  },
  {
   "cell_type": "markdown",
   "id": "b6b3de7f",
   "metadata": {},
   "source": [
    "# 14. Prepear Data"
   ]
  },
  {
   "cell_type": "code",
   "execution_count": 542,
   "id": "a8e0f48e",
   "metadata": {},
   "outputs": [],
   "source": [
    "X_train = X_train.drop(['department', 'commodity_desc', 'sub_commodity_desc', 'curr_size_of_product',], axis=1)"
   ]
  },
  {
   "cell_type": "code",
   "execution_count": 543,
   "id": "5c652c43",
   "metadata": {},
   "outputs": [],
   "source": [
    "X_train.income_desc = X_train.income_desc.fillna(X_train.income_desc.mode()[0])\n",
    "X_train.marital_status_code = X_train.marital_status_code.fillna(X_train.marital_status_code.mode()[0])\n",
    "X_train.homeowner_desc = X_train.homeowner_desc.fillna(X_train.homeowner_desc.mode()[0])\n",
    "X_train.hh_comp_desc = X_train.hh_comp_desc.fillna(X_train.hh_comp_desc.mode()[0])\n",
    "X_train.household_size_desc = X_train.household_size_desc.fillna(X_train.household_size_desc.mode()[0])"
   ]
  },
  {
   "cell_type": "code",
   "execution_count": 544,
   "id": "9c9ad1fa",
   "metadata": {
    "scrolled": false
   },
   "outputs": [
    {
     "data": {
      "text/plain": [
       "user_id                  int64\n",
       "item_id                  int64\n",
       "manufacturer             int64\n",
       "age_desc                 int64\n",
       "marital_status_code     object\n",
       "income_desc             object\n",
       "homeowner_desc          object\n",
       "hh_comp_desc            object\n",
       "household_size_desc     object\n",
       "kid_category_desc        int64\n",
       "i_quantity_sold          int64\n",
       "user_total_buy         float64\n",
       "item_total_sold        float64\n",
       "user_buy_per_week      float64\n",
       "u_buy_item_weekly      float64\n",
       "top_100                  int64\n",
       "top_500                  int64\n",
       "user_buy_popular         int64\n",
       "dtype: object"
      ]
     },
     "execution_count": 544,
     "metadata": {},
     "output_type": "execute_result"
    }
   ],
   "source": [
    "X_train.dtypes"
   ]
  },
  {
   "cell_type": "code",
   "execution_count": 545,
   "id": "daaeeb2e",
   "metadata": {},
   "outputs": [
    {
     "data": {
      "text/plain": [
       "Index(['income_desc', 'homeowner_desc', 'hh_comp_desc', 'household_size_desc',\n",
       "       'kid_category_desc'],\n",
       "      dtype='object')"
      ]
     },
     "execution_count": 545,
     "metadata": {},
     "output_type": "execute_result"
    }
   ],
   "source": [
    "X_train.columns[5:10]"
   ]
  },
  {
   "cell_type": "code",
   "execution_count": 546,
   "id": "4406726b",
   "metadata": {},
   "outputs": [],
   "source": [
    "if LEAVE_CAT: # for LEAVE_CAT see part 3\n",
    "    cat_feats = X_train.columns[4:9].tolist()\n",
    "else:\n",
    "    X_train = X_train.drop(cat_feats, axis=1)\n",
    "    "
   ]
  },
  {
   "cell_type": "code",
   "execution_count": 547,
   "id": "b9f3c970",
   "metadata": {
    "scrolled": true
   },
   "outputs": [
    {
     "data": {
      "image/png": "[encoded data removed]",
      "text/plain": [
       "<Figure size 720x576 with 2 Axes>"
      ]
     },
     "metadata": {
      "needs_background": "light"
     },
     "output_type": "display_data"
    }
   ],
   "source": [
    "sns.heatmap(ranker_train.corr(), annot=True, cmap='Greens')\n",
    "fig=plt.gcf()\n",
    "fig.set_size_inches(10,8)"
   ]
  },
  {
   "cell_type": "markdown",
   "id": "bb040e56",
   "metadata": {},
   "source": [
    "# 15. Modeling"
   ]
  },
  {
   "cell_type": "code",
   "execution_count": 548,
   "id": "1c05073d",
   "metadata": {},
   "outputs": [],
   "source": [
    "if LEAVE_CAT: # for LEAVE_CAT see part 3\n",
    "    model = CatBoostClassifier(iterations=1000,\n",
    "                           depth=10, \n",
    "                           l2_leaf_reg=5,\n",
    "                           loss_function='Logloss', #Logloss\n",
    "                           learning_rate=0.1,\n",
    "                           cat_features=cat_feats\n",
    "                          )\n",
    "else:\n",
    "      model = CatBoostClassifier(iterations=1000,\n",
    "                           depth=10, \n",
    "                           l2_leaf_reg=5,\n",
    "                           loss_function='Logloss', #Logloss\n",
    "                           learning_rate=0.1,\n",
    "                          )\n"
   ]
  },
  {
   "cell_type": "code",
   "execution_count": 549,
   "id": "7623b9be",
   "metadata": {},
   "outputs": [
    {
     "name": "stdout",
     "output_type": "stream",
     "text": [
      "0:\tlearn: 0.3529667\ttotal: 205ms\tremaining: 3m 24s\n",
      "1:\tlearn: 0.1709506\ttotal: 428ms\tremaining: 3m 33s\n",
      "2:\tlearn: 0.0927884\ttotal: 564ms\tremaining: 3m 7s\n",
      "3:\tlearn: 0.0465221\ttotal: 769ms\tremaining: 3m 11s\n",
      "4:\tlearn: 0.0243539\ttotal: 963ms\tremaining: 3m 11s\n",
      "5:\tlearn: 0.0129732\ttotal: 1.16s\tremaining: 3m 11s\n",
      "6:\tlearn: 0.0074246\ttotal: 1.4s\tremaining: 3m 18s\n",
      "7:\tlearn: 0.0045469\ttotal: 1.59s\tremaining: 3m 17s\n",
      "8:\tlearn: 0.0029206\ttotal: 1.81s\tremaining: 3m 19s\n",
      "9:\tlearn: 0.0019254\ttotal: 2s\tremaining: 3m 18s\n",
      "10:\tlearn: 0.0013392\ttotal: 2.22s\tremaining: 3m 20s\n",
      "11:\tlearn: 0.0009674\ttotal: 2.44s\tremaining: 3m 20s\n",
      "12:\tlearn: 0.0007251\ttotal: 2.65s\tremaining: 3m 21s\n",
      "13:\tlearn: 0.0005587\ttotal: 2.85s\tremaining: 3m 20s\n",
      "14:\tlearn: 0.0004548\ttotal: 3.04s\tremaining: 3m 19s\n",
      "15:\tlearn: 0.0003696\ttotal: 3.26s\tremaining: 3m 20s\n",
      "16:\tlearn: 0.0003085\ttotal: 3.45s\tremaining: 3m 19s\n",
      "17:\tlearn: 0.0002554\ttotal: 3.62s\tremaining: 3m 17s\n",
      "18:\tlearn: 0.0002225\ttotal: 3.84s\tremaining: 3m 18s\n",
      "19:\tlearn: 0.0001934\ttotal: 4.05s\tremaining: 3m 18s\n",
      "20:\tlearn: 0.0001698\ttotal: 4.22s\tremaining: 3m 16s\n",
      "21:\tlearn: 0.0001566\ttotal: 4.42s\tremaining: 3m 16s\n",
      "22:\tlearn: 0.0001431\ttotal: 4.61s\tremaining: 3m 16s\n",
      "23:\tlearn: 0.0001310\ttotal: 4.79s\tremaining: 3m 15s\n",
      "24:\tlearn: 0.0001211\ttotal: 5.01s\tremaining: 3m 15s\n",
      "25:\tlearn: 0.0001126\ttotal: 5.23s\tremaining: 3m 16s\n",
      "26:\tlearn: 0.0001055\ttotal: 5.43s\tremaining: 3m 15s\n",
      "27:\tlearn: 0.0000992\ttotal: 5.64s\tremaining: 3m 15s\n",
      "28:\tlearn: 0.0000929\ttotal: 5.81s\tremaining: 3m 14s\n",
      "29:\tlearn: 0.0000880\ttotal: 5.98s\tremaining: 3m 13s\n",
      "30:\tlearn: 0.0000833\ttotal: 6.17s\tremaining: 3m 12s\n",
      "31:\tlearn: 0.0000799\ttotal: 6.35s\tremaining: 3m 12s\n",
      "32:\tlearn: 0.0000753\ttotal: 6.58s\tremaining: 3m 12s\n",
      "33:\tlearn: 0.0000717\ttotal: 6.77s\tremaining: 3m 12s\n",
      "34:\tlearn: 0.0000687\ttotal: 6.99s\tremaining: 3m 12s\n",
      "35:\tlearn: 0.0000656\ttotal: 7.21s\tremaining: 3m 13s\n",
      "36:\tlearn: 0.0000626\ttotal: 7.42s\tremaining: 3m 13s\n",
      "37:\tlearn: 0.0000607\ttotal: 7.62s\tremaining: 3m 13s\n",
      "38:\tlearn: 0.0000586\ttotal: 7.85s\tremaining: 3m 13s\n",
      "39:\tlearn: 0.0000565\ttotal: 8.07s\tremaining: 3m 13s\n",
      "40:\tlearn: 0.0000546\ttotal: 8.24s\tremaining: 3m 12s\n",
      "41:\tlearn: 0.0000522\ttotal: 8.44s\tremaining: 3m 12s\n",
      "42:\tlearn: 0.0000503\ttotal: 8.64s\tremaining: 3m 12s\n",
      "43:\tlearn: 0.0000486\ttotal: 8.83s\tremaining: 3m 11s\n",
      "44:\tlearn: 0.0000470\ttotal: 9.02s\tremaining: 3m 11s\n",
      "45:\tlearn: 0.0000464\ttotal: 9.18s\tremaining: 3m 10s\n",
      "46:\tlearn: 0.0000464\ttotal: 9.37s\tremaining: 3m 10s\n",
      "47:\tlearn: 0.0000464\ttotal: 9.54s\tremaining: 3m 9s\n",
      "48:\tlearn: 0.0000458\ttotal: 9.74s\tremaining: 3m 9s\n",
      "49:\tlearn: 0.0000458\ttotal: 9.93s\tremaining: 3m 8s\n",
      "50:\tlearn: 0.0000458\ttotal: 10.1s\tremaining: 3m 8s\n",
      "51:\tlearn: 0.0000458\ttotal: 10.3s\tremaining: 3m 8s\n",
      "52:\tlearn: 0.0000458\ttotal: 10.5s\tremaining: 3m 7s\n",
      "53:\tlearn: 0.0000458\ttotal: 10.6s\tremaining: 3m 6s\n",
      "54:\tlearn: 0.0000458\ttotal: 10.8s\tremaining: 3m 5s\n",
      "55:\tlearn: 0.0000458\ttotal: 11s\tremaining: 3m 4s\n",
      "56:\tlearn: 0.0000458\ttotal: 11.1s\tremaining: 3m 3s\n",
      "57:\tlearn: 0.0000458\ttotal: 11.3s\tremaining: 3m 3s\n",
      "58:\tlearn: 0.0000458\ttotal: 11.5s\tremaining: 3m 2s\n",
      "59:\tlearn: 0.0000444\ttotal: 11.7s\tremaining: 3m 2s\n",
      "60:\tlearn: 0.0000444\ttotal: 11.9s\tremaining: 3m 2s\n",
      "61:\tlearn: 0.0000444\ttotal: 12s\tremaining: 3m 2s\n",
      "62:\tlearn: 0.0000444\ttotal: 12.2s\tremaining: 3m 1s\n",
      "63:\tlearn: 0.0000444\ttotal: 12.4s\tremaining: 3m 1s\n",
      "64:\tlearn: 0.0000444\ttotal: 12.5s\tremaining: 3m\n",
      "65:\tlearn: 0.0000444\ttotal: 12.7s\tremaining: 3m\n",
      "66:\tlearn: 0.0000429\ttotal: 12.9s\tremaining: 3m\n",
      "67:\tlearn: 0.0000429\ttotal: 13.1s\tremaining: 2m 59s\n",
      "68:\tlearn: 0.0000429\ttotal: 13.3s\tremaining: 2m 59s\n",
      "69:\tlearn: 0.0000429\ttotal: 13.4s\tremaining: 2m 58s\n",
      "70:\tlearn: 0.0000429\ttotal: 13.6s\tremaining: 2m 57s\n",
      "71:\tlearn: 0.0000429\ttotal: 13.8s\tremaining: 2m 57s\n",
      "72:\tlearn: 0.0000429\ttotal: 14s\tremaining: 2m 57s\n",
      "73:\tlearn: 0.0000429\ttotal: 14.2s\tremaining: 2m 58s\n",
      "74:\tlearn: 0.0000429\ttotal: 14.4s\tremaining: 2m 57s\n",
      "75:\tlearn: 0.0000429\ttotal: 14.7s\tremaining: 2m 58s\n",
      "76:\tlearn: 0.0000429\ttotal: 14.9s\tremaining: 2m 58s\n",
      "77:\tlearn: 0.0000429\ttotal: 15.1s\tremaining: 2m 58s\n",
      "78:\tlearn: 0.0000429\ttotal: 15.3s\tremaining: 2m 58s\n",
      "79:\tlearn: 0.0000429\ttotal: 15.4s\tremaining: 2m 57s\n",
      "80:\tlearn: 0.0000429\ttotal: 15.6s\tremaining: 2m 57s\n",
      "81:\tlearn: 0.0000429\ttotal: 15.8s\tremaining: 2m 57s\n",
      "82:\tlearn: 0.0000429\ttotal: 16s\tremaining: 2m 57s\n",
      "83:\tlearn: 0.0000429\ttotal: 16.2s\tremaining: 2m 57s\n",
      "84:\tlearn: 0.0000429\ttotal: 16.4s\tremaining: 2m 56s\n",
      "85:\tlearn: 0.0000429\ttotal: 16.6s\tremaining: 2m 56s\n",
      "86:\tlearn: 0.0000429\ttotal: 16.8s\tremaining: 2m 56s\n",
      "87:\tlearn: 0.0000426\ttotal: 17s\tremaining: 2m 55s\n",
      "88:\tlearn: 0.0000426\ttotal: 17.1s\tremaining: 2m 55s\n",
      "89:\tlearn: 0.0000426\ttotal: 17.3s\tremaining: 2m 55s\n",
      "90:\tlearn: 0.0000426\ttotal: 17.5s\tremaining: 2m 55s\n",
      "91:\tlearn: 0.0000422\ttotal: 17.7s\tremaining: 2m 54s\n",
      "92:\tlearn: 0.0000422\ttotal: 17.9s\tremaining: 2m 54s\n",
      "93:\tlearn: 0.0000422\ttotal: 18.1s\tremaining: 2m 54s\n",
      "94:\tlearn: 0.0000422\ttotal: 18.3s\tremaining: 2m 54s\n",
      "95:\tlearn: 0.0000422\ttotal: 18.5s\tremaining: 2m 54s\n",
      "96:\tlearn: 0.0000422\ttotal: 18.7s\tremaining: 2m 53s\n",
      "97:\tlearn: 0.0000422\ttotal: 18.9s\tremaining: 2m 53s\n",
      "98:\tlearn: 0.0000422\ttotal: 19.1s\tremaining: 2m 53s\n",
      "99:\tlearn: 0.0000422\ttotal: 19.3s\tremaining: 2m 53s\n",
      "100:\tlearn: 0.0000422\ttotal: 19.6s\tremaining: 2m 54s\n",
      "101:\tlearn: 0.0000422\ttotal: 19.8s\tremaining: 2m 54s\n",
      "102:\tlearn: 0.0000422\ttotal: 19.9s\tremaining: 2m 53s\n",
      "103:\tlearn: 0.0000422\ttotal: 20.1s\tremaining: 2m 53s\n",
      "104:\tlearn: 0.0000422\ttotal: 20.3s\tremaining: 2m 52s\n",
      "105:\tlearn: 0.0000422\ttotal: 20.5s\tremaining: 2m 52s\n",
      "106:\tlearn: 0.0000422\ttotal: 20.7s\tremaining: 2m 52s\n",
      "107:\tlearn: 0.0000422\ttotal: 20.9s\tremaining: 2m 52s\n",
      "108:\tlearn: 0.0000422\ttotal: 21s\tremaining: 2m 51s\n",
      "109:\tlearn: 0.0000422\ttotal: 21.2s\tremaining: 2m 51s\n",
      "110:\tlearn: 0.0000422\ttotal: 21.4s\tremaining: 2m 51s\n",
      "111:\tlearn: 0.0000422\ttotal: 21.6s\tremaining: 2m 51s\n",
      "112:\tlearn: 0.0000422\ttotal: 21.8s\tremaining: 2m 51s\n",
      "113:\tlearn: 0.0000422\ttotal: 22s\tremaining: 2m 50s\n",
      "114:\tlearn: 0.0000422\ttotal: 22.1s\tremaining: 2m 50s\n",
      "115:\tlearn: 0.0000422\ttotal: 22.3s\tremaining: 2m 49s\n",
      "116:\tlearn: 0.0000422\ttotal: 22.5s\tremaining: 2m 49s\n",
      "117:\tlearn: 0.0000422\ttotal: 22.7s\tremaining: 2m 49s\n",
      "118:\tlearn: 0.0000422\ttotal: 22.8s\tremaining: 2m 48s\n",
      "119:\tlearn: 0.0000422\ttotal: 23s\tremaining: 2m 48s\n",
      "120:\tlearn: 0.0000422\ttotal: 23.2s\tremaining: 2m 48s\n",
      "121:\tlearn: 0.0000422\ttotal: 23.4s\tremaining: 2m 48s\n",
      "122:\tlearn: 0.0000422\ttotal: 23.6s\tremaining: 2m 47s\n",
      "123:\tlearn: 0.0000422\ttotal: 23.7s\tremaining: 2m 47s\n",
      "124:\tlearn: 0.0000422\ttotal: 23.9s\tremaining: 2m 47s\n",
      "125:\tlearn: 0.0000422\ttotal: 24.1s\tremaining: 2m 46s\n",
      "126:\tlearn: 0.0000422\ttotal: 24.2s\tremaining: 2m 46s\n",
      "127:\tlearn: 0.0000422\ttotal: 24.4s\tremaining: 2m 46s\n",
      "128:\tlearn: 0.0000422\ttotal: 24.6s\tremaining: 2m 46s\n",
      "129:\tlearn: 0.0000422\ttotal: 24.8s\tremaining: 2m 45s\n",
      "130:\tlearn: 0.0000422\ttotal: 25s\tremaining: 2m 45s\n",
      "131:\tlearn: 0.0000421\ttotal: 25.2s\tremaining: 2m 45s\n",
      "132:\tlearn: 0.0000421\ttotal: 25.4s\tremaining: 2m 45s\n",
      "133:\tlearn: 0.0000421\ttotal: 25.5s\tremaining: 2m 44s\n",
      "134:\tlearn: 0.0000421\ttotal: 25.7s\tremaining: 2m 44s\n",
      "135:\tlearn: 0.0000421\ttotal: 25.9s\tremaining: 2m 44s\n",
      "136:\tlearn: 0.0000421\ttotal: 26.1s\tremaining: 2m 44s\n",
      "137:\tlearn: 0.0000421\ttotal: 26.2s\tremaining: 2m 43s\n",
      "138:\tlearn: 0.0000421\ttotal: 26.4s\tremaining: 2m 43s\n",
      "139:\tlearn: 0.0000421\ttotal: 26.5s\tremaining: 2m 43s\n",
      "140:\tlearn: 0.0000421\ttotal: 26.7s\tremaining: 2m 42s\n",
      "141:\tlearn: 0.0000421\ttotal: 26.9s\tremaining: 2m 42s\n",
      "142:\tlearn: 0.0000421\ttotal: 27.1s\tremaining: 2m 42s\n",
      "143:\tlearn: 0.0000421\ttotal: 27.2s\tremaining: 2m 41s\n",
      "144:\tlearn: 0.0000421\ttotal: 27.4s\tremaining: 2m 41s\n",
      "145:\tlearn: 0.0000421\ttotal: 27.6s\tremaining: 2m 41s\n",
      "146:\tlearn: 0.0000421\ttotal: 27.7s\tremaining: 2m 40s\n",
      "147:\tlearn: 0.0000421\ttotal: 27.9s\tremaining: 2m 40s\n",
      "148:\tlearn: 0.0000421\ttotal: 28.1s\tremaining: 2m 40s\n",
      "149:\tlearn: 0.0000421\ttotal: 28.3s\tremaining: 2m 40s\n",
      "150:\tlearn: 0.0000421\ttotal: 28.4s\tremaining: 2m 39s\n",
      "151:\tlearn: 0.0000421\ttotal: 28.6s\tremaining: 2m 39s\n",
      "152:\tlearn: 0.0000421\ttotal: 28.8s\tremaining: 2m 39s\n",
      "153:\tlearn: 0.0000421\ttotal: 29s\tremaining: 2m 39s\n",
      "154:\tlearn: 0.0000421\ttotal: 29.1s\tremaining: 2m 38s\n",
      "155:\tlearn: 0.0000421\ttotal: 29.3s\tremaining: 2m 38s\n",
      "156:\tlearn: 0.0000421\ttotal: 29.5s\tremaining: 2m 38s\n",
      "157:\tlearn: 0.0000421\ttotal: 29.6s\tremaining: 2m 37s\n",
      "158:\tlearn: 0.0000421\ttotal: 29.8s\tremaining: 2m 37s\n"
     ]
    },
    {
     "name": "stdout",
     "output_type": "stream",
     "text": [
      "159:\tlearn: 0.0000421\ttotal: 29.9s\tremaining: 2m 37s\n",
      "160:\tlearn: 0.0000421\ttotal: 30.1s\tremaining: 2m 36s\n",
      "161:\tlearn: 0.0000421\ttotal: 30.3s\tremaining: 2m 36s\n",
      "162:\tlearn: 0.0000421\ttotal: 30.4s\tremaining: 2m 36s\n",
      "163:\tlearn: 0.0000421\ttotal: 30.6s\tremaining: 2m 36s\n",
      "164:\tlearn: 0.0000421\ttotal: 30.7s\tremaining: 2m 35s\n",
      "165:\tlearn: 0.0000421\ttotal: 30.9s\tremaining: 2m 35s\n",
      "166:\tlearn: 0.0000421\ttotal: 31s\tremaining: 2m 34s\n",
      "167:\tlearn: 0.0000421\ttotal: 31.2s\tremaining: 2m 34s\n",
      "168:\tlearn: 0.0000421\ttotal: 31.4s\tremaining: 2m 34s\n",
      "169:\tlearn: 0.0000421\ttotal: 31.6s\tremaining: 2m 34s\n",
      "170:\tlearn: 0.0000421\ttotal: 31.7s\tremaining: 2m 33s\n",
      "171:\tlearn: 0.0000421\ttotal: 31.9s\tremaining: 2m 33s\n",
      "172:\tlearn: 0.0000421\ttotal: 32s\tremaining: 2m 33s\n",
      "173:\tlearn: 0.0000421\ttotal: 32.2s\tremaining: 2m 32s\n",
      "174:\tlearn: 0.0000421\ttotal: 32.4s\tremaining: 2m 32s\n",
      "175:\tlearn: 0.0000421\ttotal: 32.6s\tremaining: 2m 32s\n",
      "176:\tlearn: 0.0000421\ttotal: 32.7s\tremaining: 2m 32s\n",
      "177:\tlearn: 0.0000421\ttotal: 32.9s\tremaining: 2m 31s\n",
      "178:\tlearn: 0.0000421\ttotal: 33.1s\tremaining: 2m 31s\n",
      "179:\tlearn: 0.0000421\ttotal: 33.3s\tremaining: 2m 31s\n",
      "180:\tlearn: 0.0000421\ttotal: 33.5s\tremaining: 2m 31s\n",
      "181:\tlearn: 0.0000420\ttotal: 33.6s\tremaining: 2m 31s\n",
      "182:\tlearn: 0.0000420\ttotal: 33.8s\tremaining: 2m 30s\n",
      "183:\tlearn: 0.0000420\ttotal: 33.9s\tremaining: 2m 30s\n",
      "184:\tlearn: 0.0000420\ttotal: 34.1s\tremaining: 2m 30s\n",
      "185:\tlearn: 0.0000420\ttotal: 34.3s\tremaining: 2m 30s\n",
      "186:\tlearn: 0.0000420\ttotal: 34.5s\tremaining: 2m 29s\n",
      "187:\tlearn: 0.0000420\ttotal: 34.7s\tremaining: 2m 29s\n",
      "188:\tlearn: 0.0000420\ttotal: 34.8s\tremaining: 2m 29s\n",
      "189:\tlearn: 0.0000420\ttotal: 35s\tremaining: 2m 29s\n",
      "190:\tlearn: 0.0000420\ttotal: 35.1s\tremaining: 2m 28s\n",
      "191:\tlearn: 0.0000420\ttotal: 35.3s\tremaining: 2m 28s\n",
      "192:\tlearn: 0.0000420\ttotal: 35.4s\tremaining: 2m 27s\n",
      "193:\tlearn: 0.0000420\ttotal: 35.6s\tremaining: 2m 27s\n",
      "194:\tlearn: 0.0000420\ttotal: 35.7s\tremaining: 2m 27s\n",
      "195:\tlearn: 0.0000420\ttotal: 35.8s\tremaining: 2m 27s\n",
      "196:\tlearn: 0.0000420\ttotal: 36s\tremaining: 2m 26s\n",
      "197:\tlearn: 0.0000420\ttotal: 36.2s\tremaining: 2m 26s\n",
      "198:\tlearn: 0.0000420\ttotal: 36.3s\tremaining: 2m 26s\n",
      "199:\tlearn: 0.0000420\ttotal: 36.5s\tremaining: 2m 25s\n",
      "200:\tlearn: 0.0000420\ttotal: 36.6s\tremaining: 2m 25s\n",
      "201:\tlearn: 0.0000420\ttotal: 36.8s\tremaining: 2m 25s\n",
      "202:\tlearn: 0.0000420\ttotal: 36.9s\tremaining: 2m 24s\n",
      "203:\tlearn: 0.0000420\ttotal: 37s\tremaining: 2m 24s\n",
      "204:\tlearn: 0.0000420\ttotal: 37.2s\tremaining: 2m 24s\n",
      "205:\tlearn: 0.0000420\ttotal: 37.4s\tremaining: 2m 24s\n",
      "206:\tlearn: 0.0000420\ttotal: 37.5s\tremaining: 2m 23s\n",
      "207:\tlearn: 0.0000420\ttotal: 37.7s\tremaining: 2m 23s\n",
      "208:\tlearn: 0.0000420\ttotal: 37.9s\tremaining: 2m 23s\n",
      "209:\tlearn: 0.0000420\ttotal: 38s\tremaining: 2m 23s\n",
      "210:\tlearn: 0.0000420\ttotal: 38.1s\tremaining: 2m 22s\n",
      "211:\tlearn: 0.0000420\ttotal: 38.3s\tremaining: 2m 22s\n",
      "212:\tlearn: 0.0000420\ttotal: 38.4s\tremaining: 2m 22s\n",
      "213:\tlearn: 0.0000420\ttotal: 38.6s\tremaining: 2m 21s\n",
      "214:\tlearn: 0.0000420\ttotal: 38.7s\tremaining: 2m 21s\n",
      "215:\tlearn: 0.0000420\ttotal: 38.9s\tremaining: 2m 21s\n",
      "216:\tlearn: 0.0000420\ttotal: 39s\tremaining: 2m 20s\n",
      "217:\tlearn: 0.0000420\ttotal: 39.1s\tremaining: 2m 20s\n",
      "218:\tlearn: 0.0000420\ttotal: 39.2s\tremaining: 2m 19s\n",
      "219:\tlearn: 0.0000420\ttotal: 39.3s\tremaining: 2m 19s\n",
      "220:\tlearn: 0.0000420\ttotal: 39.5s\tremaining: 2m 19s\n",
      "221:\tlearn: 0.0000420\ttotal: 39.7s\tremaining: 2m 19s\n",
      "222:\tlearn: 0.0000420\ttotal: 39.8s\tremaining: 2m 18s\n",
      "223:\tlearn: 0.0000420\ttotal: 39.9s\tremaining: 2m 18s\n",
      "224:\tlearn: 0.0000420\ttotal: 40.1s\tremaining: 2m 18s\n",
      "225:\tlearn: 0.0000420\ttotal: 40.3s\tremaining: 2m 18s\n",
      "226:\tlearn: 0.0000420\ttotal: 40.5s\tremaining: 2m 17s\n",
      "227:\tlearn: 0.0000420\ttotal: 40.7s\tremaining: 2m 17s\n",
      "228:\tlearn: 0.0000420\ttotal: 40.9s\tremaining: 2m 17s\n",
      "229:\tlearn: 0.0000420\ttotal: 41s\tremaining: 2m 17s\n",
      "230:\tlearn: 0.0000420\ttotal: 41.2s\tremaining: 2m 17s\n",
      "231:\tlearn: 0.0000420\ttotal: 41.3s\tremaining: 2m 16s\n",
      "232:\tlearn: 0.0000420\ttotal: 41.5s\tremaining: 2m 16s\n",
      "233:\tlearn: 0.0000420\ttotal: 41.7s\tremaining: 2m 16s\n",
      "234:\tlearn: 0.0000420\ttotal: 41.9s\tremaining: 2m 16s\n",
      "235:\tlearn: 0.0000420\ttotal: 42s\tremaining: 2m 16s\n",
      "236:\tlearn: 0.0000420\ttotal: 42.2s\tremaining: 2m 15s\n",
      "237:\tlearn: 0.0000420\ttotal: 42.3s\tremaining: 2m 15s\n",
      "238:\tlearn: 0.0000420\ttotal: 42.5s\tremaining: 2m 15s\n",
      "239:\tlearn: 0.0000420\ttotal: 42.6s\tremaining: 2m 14s\n",
      "240:\tlearn: 0.0000420\ttotal: 42.8s\tremaining: 2m 14s\n",
      "241:\tlearn: 0.0000420\ttotal: 42.9s\tremaining: 2m 14s\n",
      "242:\tlearn: 0.0000420\ttotal: 43.1s\tremaining: 2m 14s\n",
      "243:\tlearn: 0.0000420\ttotal: 43.3s\tremaining: 2m 14s\n",
      "244:\tlearn: 0.0000420\ttotal: 43.5s\tremaining: 2m 13s\n",
      "245:\tlearn: 0.0000420\ttotal: 43.6s\tremaining: 2m 13s\n",
      "246:\tlearn: 0.0000420\ttotal: 43.8s\tremaining: 2m 13s\n",
      "247:\tlearn: 0.0000420\ttotal: 43.9s\tremaining: 2m 13s\n",
      "248:\tlearn: 0.0000420\ttotal: 44s\tremaining: 2m 12s\n",
      "249:\tlearn: 0.0000420\ttotal: 44.1s\tremaining: 2m 12s\n",
      "250:\tlearn: 0.0000419\ttotal: 44.3s\tremaining: 2m 12s\n",
      "251:\tlearn: 0.0000419\ttotal: 44.5s\tremaining: 2m 12s\n",
      "252:\tlearn: 0.0000419\ttotal: 44.6s\tremaining: 2m 11s\n",
      "253:\tlearn: 0.0000419\ttotal: 44.8s\tremaining: 2m 11s\n",
      "254:\tlearn: 0.0000419\ttotal: 44.9s\tremaining: 2m 11s\n",
      "255:\tlearn: 0.0000419\ttotal: 45.1s\tremaining: 2m 11s\n",
      "256:\tlearn: 0.0000419\ttotal: 45.3s\tremaining: 2m 10s\n",
      "257:\tlearn: 0.0000419\ttotal: 45.5s\tremaining: 2m 10s\n",
      "258:\tlearn: 0.0000419\ttotal: 45.6s\tremaining: 2m 10s\n",
      "259:\tlearn: 0.0000419\ttotal: 45.8s\tremaining: 2m 10s\n",
      "260:\tlearn: 0.0000419\ttotal: 45.9s\tremaining: 2m 10s\n",
      "261:\tlearn: 0.0000419\ttotal: 46.1s\tremaining: 2m 9s\n",
      "262:\tlearn: 0.0000419\ttotal: 46.3s\tremaining: 2m 9s\n",
      "263:\tlearn: 0.0000419\ttotal: 46.4s\tremaining: 2m 9s\n",
      "264:\tlearn: 0.0000419\ttotal: 46.6s\tremaining: 2m 9s\n",
      "265:\tlearn: 0.0000419\ttotal: 46.7s\tremaining: 2m 8s\n",
      "266:\tlearn: 0.0000419\ttotal: 46.8s\tremaining: 2m 8s\n",
      "267:\tlearn: 0.0000419\ttotal: 47s\tremaining: 2m 8s\n",
      "268:\tlearn: 0.0000419\ttotal: 47.1s\tremaining: 2m 8s\n",
      "269:\tlearn: 0.0000419\ttotal: 47.3s\tremaining: 2m 7s\n",
      "270:\tlearn: 0.0000419\ttotal: 47.5s\tremaining: 2m 7s\n",
      "271:\tlearn: 0.0000419\ttotal: 47.6s\tremaining: 2m 7s\n",
      "272:\tlearn: 0.0000419\ttotal: 47.7s\tremaining: 2m 7s\n",
      "273:\tlearn: 0.0000419\ttotal: 47.9s\tremaining: 2m 7s\n",
      "274:\tlearn: 0.0000419\ttotal: 48s\tremaining: 2m 6s\n",
      "275:\tlearn: 0.0000419\ttotal: 48.2s\tremaining: 2m 6s\n",
      "276:\tlearn: 0.0000419\ttotal: 48.3s\tremaining: 2m 6s\n",
      "277:\tlearn: 0.0000419\ttotal: 48.5s\tremaining: 2m 6s\n",
      "278:\tlearn: 0.0000419\ttotal: 48.6s\tremaining: 2m 5s\n",
      "279:\tlearn: 0.0000419\ttotal: 48.8s\tremaining: 2m 5s\n",
      "280:\tlearn: 0.0000419\ttotal: 48.9s\tremaining: 2m 5s\n",
      "281:\tlearn: 0.0000419\ttotal: 49s\tremaining: 2m 4s\n",
      "282:\tlearn: 0.0000419\ttotal: 49.1s\tremaining: 2m 4s\n",
      "283:\tlearn: 0.0000419\ttotal: 49.3s\tremaining: 2m 4s\n",
      "284:\tlearn: 0.0000419\ttotal: 49.4s\tremaining: 2m 4s\n",
      "285:\tlearn: 0.0000419\ttotal: 49.6s\tremaining: 2m 3s\n",
      "286:\tlearn: 0.0000419\ttotal: 49.7s\tremaining: 2m 3s\n",
      "287:\tlearn: 0.0000419\ttotal: 49.9s\tremaining: 2m 3s\n",
      "288:\tlearn: 0.0000419\ttotal: 50.1s\tremaining: 2m 3s\n",
      "289:\tlearn: 0.0000419\ttotal: 50.3s\tremaining: 2m 3s\n",
      "290:\tlearn: 0.0000419\ttotal: 50.4s\tremaining: 2m 2s\n",
      "291:\tlearn: 0.0000419\ttotal: 50.6s\tremaining: 2m 2s\n",
      "292:\tlearn: 0.0000419\ttotal: 50.7s\tremaining: 2m 2s\n",
      "293:\tlearn: 0.0000419\ttotal: 50.9s\tremaining: 2m 2s\n",
      "294:\tlearn: 0.0000419\ttotal: 51.1s\tremaining: 2m 2s\n",
      "295:\tlearn: 0.0000419\ttotal: 51.2s\tremaining: 2m 1s\n",
      "296:\tlearn: 0.0000419\ttotal: 51.3s\tremaining: 2m 1s\n",
      "297:\tlearn: 0.0000419\ttotal: 51.5s\tremaining: 2m 1s\n",
      "298:\tlearn: 0.0000419\ttotal: 51.6s\tremaining: 2m 1s\n",
      "299:\tlearn: 0.0000419\ttotal: 51.8s\tremaining: 2m\n",
      "300:\tlearn: 0.0000419\ttotal: 52s\tremaining: 2m\n",
      "301:\tlearn: 0.0000419\ttotal: 52.1s\tremaining: 2m\n",
      "302:\tlearn: 0.0000419\ttotal: 52.3s\tremaining: 2m\n",
      "303:\tlearn: 0.0000419\ttotal: 52.5s\tremaining: 2m\n",
      "304:\tlearn: 0.0000419\ttotal: 52.6s\tremaining: 1m 59s\n",
      "305:\tlearn: 0.0000419\ttotal: 52.8s\tremaining: 1m 59s\n",
      "306:\tlearn: 0.0000419\ttotal: 53s\tremaining: 1m 59s\n",
      "307:\tlearn: 0.0000419\ttotal: 53.2s\tremaining: 1m 59s\n",
      "308:\tlearn: 0.0000419\ttotal: 53.3s\tremaining: 1m 59s\n",
      "309:\tlearn: 0.0000419\ttotal: 53.5s\tremaining: 1m 59s\n",
      "310:\tlearn: 0.0000419\ttotal: 53.6s\tremaining: 1m 58s\n",
      "311:\tlearn: 0.0000419\ttotal: 53.7s\tremaining: 1m 58s\n",
      "312:\tlearn: 0.0000419\ttotal: 53.9s\tremaining: 1m 58s\n",
      "313:\tlearn: 0.0000419\ttotal: 54.1s\tremaining: 1m 58s\n",
      "314:\tlearn: 0.0000419\ttotal: 54.2s\tremaining: 1m 57s\n",
      "315:\tlearn: 0.0000419\ttotal: 54.4s\tremaining: 1m 57s\n",
      "316:\tlearn: 0.0000419\ttotal: 54.5s\tremaining: 1m 57s\n"
     ]
    },
    {
     "name": "stdout",
     "output_type": "stream",
     "text": [
      "317:\tlearn: 0.0000419\ttotal: 54.7s\tremaining: 1m 57s\n",
      "318:\tlearn: 0.0000419\ttotal: 54.8s\tremaining: 1m 57s\n",
      "319:\tlearn: 0.0000419\ttotal: 55s\tremaining: 1m 56s\n",
      "320:\tlearn: 0.0000419\ttotal: 55.2s\tremaining: 1m 56s\n",
      "321:\tlearn: 0.0000419\ttotal: 55.3s\tremaining: 1m 56s\n",
      "322:\tlearn: 0.0000419\ttotal: 55.5s\tremaining: 1m 56s\n",
      "323:\tlearn: 0.0000419\ttotal: 55.6s\tremaining: 1m 56s\n",
      "324:\tlearn: 0.0000419\ttotal: 55.8s\tremaining: 1m 55s\n",
      "325:\tlearn: 0.0000419\ttotal: 56s\tremaining: 1m 55s\n",
      "326:\tlearn: 0.0000419\ttotal: 56.1s\tremaining: 1m 55s\n",
      "327:\tlearn: 0.0000419\ttotal: 56.3s\tremaining: 1m 55s\n",
      "328:\tlearn: 0.0000419\ttotal: 56.5s\tremaining: 1m 55s\n",
      "329:\tlearn: 0.0000419\ttotal: 56.6s\tremaining: 1m 54s\n",
      "330:\tlearn: 0.0000419\ttotal: 56.7s\tremaining: 1m 54s\n",
      "331:\tlearn: 0.0000419\ttotal: 56.9s\tremaining: 1m 54s\n",
      "332:\tlearn: 0.0000419\ttotal: 57.1s\tremaining: 1m 54s\n",
      "333:\tlearn: 0.0000419\ttotal: 57.2s\tremaining: 1m 54s\n",
      "334:\tlearn: 0.0000419\ttotal: 57.4s\tremaining: 1m 53s\n",
      "335:\tlearn: 0.0000419\ttotal: 57.6s\tremaining: 1m 53s\n",
      "336:\tlearn: 0.0000419\ttotal: 57.7s\tremaining: 1m 53s\n",
      "337:\tlearn: 0.0000419\ttotal: 57.8s\tremaining: 1m 53s\n",
      "338:\tlearn: 0.0000419\ttotal: 58s\tremaining: 1m 53s\n",
      "339:\tlearn: 0.0000418\ttotal: 58.2s\tremaining: 1m 52s\n",
      "340:\tlearn: 0.0000418\ttotal: 58.3s\tremaining: 1m 52s\n",
      "341:\tlearn: 0.0000418\ttotal: 58.5s\tremaining: 1m 52s\n",
      "342:\tlearn: 0.0000418\ttotal: 58.6s\tremaining: 1m 52s\n",
      "343:\tlearn: 0.0000418\ttotal: 58.8s\tremaining: 1m 52s\n",
      "344:\tlearn: 0.0000418\ttotal: 59s\tremaining: 1m 51s\n",
      "345:\tlearn: 0.0000418\ttotal: 59.1s\tremaining: 1m 51s\n",
      "346:\tlearn: 0.0000418\ttotal: 59.2s\tremaining: 1m 51s\n",
      "347:\tlearn: 0.0000418\ttotal: 59.4s\tremaining: 1m 51s\n",
      "348:\tlearn: 0.0000418\ttotal: 59.6s\tremaining: 1m 51s\n",
      "349:\tlearn: 0.0000418\ttotal: 59.8s\tremaining: 1m 51s\n",
      "350:\tlearn: 0.0000418\ttotal: 59.9s\tremaining: 1m 50s\n",
      "351:\tlearn: 0.0000418\ttotal: 1m\tremaining: 1m 50s\n",
      "352:\tlearn: 0.0000418\ttotal: 1m\tremaining: 1m 50s\n",
      "353:\tlearn: 0.0000418\ttotal: 1m\tremaining: 1m 50s\n",
      "354:\tlearn: 0.0000418\ttotal: 1m\tremaining: 1m 49s\n",
      "355:\tlearn: 0.0000418\ttotal: 1m\tremaining: 1m 49s\n",
      "356:\tlearn: 0.0000418\ttotal: 1m\tremaining: 1m 49s\n",
      "357:\tlearn: 0.0000418\ttotal: 1m 1s\tremaining: 1m 49s\n",
      "358:\tlearn: 0.0000418\ttotal: 1m 1s\tremaining: 1m 49s\n",
      "359:\tlearn: 0.0000418\ttotal: 1m 1s\tremaining: 1m 49s\n",
      "360:\tlearn: 0.0000418\ttotal: 1m 1s\tremaining: 1m 48s\n",
      "361:\tlearn: 0.0000418\ttotal: 1m 1s\tremaining: 1m 48s\n",
      "362:\tlearn: 0.0000418\ttotal: 1m 1s\tremaining: 1m 48s\n",
      "363:\tlearn: 0.0000418\ttotal: 1m 2s\tremaining: 1m 48s\n",
      "364:\tlearn: 0.0000418\ttotal: 1m 2s\tremaining: 1m 48s\n",
      "365:\tlearn: 0.0000418\ttotal: 1m 2s\tremaining: 1m 48s\n",
      "366:\tlearn: 0.0000418\ttotal: 1m 2s\tremaining: 1m 47s\n",
      "367:\tlearn: 0.0000418\ttotal: 1m 2s\tremaining: 1m 47s\n",
      "368:\tlearn: 0.0000418\ttotal: 1m 2s\tremaining: 1m 47s\n",
      "369:\tlearn: 0.0000418\ttotal: 1m 3s\tremaining: 1m 47s\n",
      "370:\tlearn: 0.0000418\ttotal: 1m 3s\tremaining: 1m 47s\n",
      "371:\tlearn: 0.0000418\ttotal: 1m 3s\tremaining: 1m 46s\n",
      "372:\tlearn: 0.0000418\ttotal: 1m 3s\tremaining: 1m 46s\n",
      "373:\tlearn: 0.0000418\ttotal: 1m 3s\tremaining: 1m 46s\n",
      "374:\tlearn: 0.0000418\ttotal: 1m 3s\tremaining: 1m 46s\n",
      "375:\tlearn: 0.0000418\ttotal: 1m 4s\tremaining: 1m 46s\n",
      "376:\tlearn: 0.0000418\ttotal: 1m 4s\tremaining: 1m 46s\n",
      "377:\tlearn: 0.0000418\ttotal: 1m 4s\tremaining: 1m 45s\n",
      "378:\tlearn: 0.0000418\ttotal: 1m 4s\tremaining: 1m 45s\n",
      "379:\tlearn: 0.0000418\ttotal: 1m 4s\tremaining: 1m 45s\n",
      "380:\tlearn: 0.0000418\ttotal: 1m 4s\tremaining: 1m 45s\n",
      "381:\tlearn: 0.0000418\ttotal: 1m 4s\tremaining: 1m 45s\n",
      "382:\tlearn: 0.0000418\ttotal: 1m 5s\tremaining: 1m 44s\n",
      "383:\tlearn: 0.0000418\ttotal: 1m 5s\tremaining: 1m 44s\n",
      "384:\tlearn: 0.0000418\ttotal: 1m 5s\tremaining: 1m 44s\n",
      "385:\tlearn: 0.0000418\ttotal: 1m 5s\tremaining: 1m 44s\n",
      "386:\tlearn: 0.0000418\ttotal: 1m 5s\tremaining: 1m 44s\n",
      "387:\tlearn: 0.0000418\ttotal: 1m 5s\tremaining: 1m 44s\n",
      "388:\tlearn: 0.0000418\ttotal: 1m 6s\tremaining: 1m 43s\n",
      "389:\tlearn: 0.0000418\ttotal: 1m 6s\tremaining: 1m 43s\n",
      "390:\tlearn: 0.0000418\ttotal: 1m 6s\tremaining: 1m 43s\n",
      "391:\tlearn: 0.0000418\ttotal: 1m 6s\tremaining: 1m 43s\n",
      "392:\tlearn: 0.0000418\ttotal: 1m 6s\tremaining: 1m 43s\n",
      "393:\tlearn: 0.0000418\ttotal: 1m 6s\tremaining: 1m 42s\n",
      "394:\tlearn: 0.0000418\ttotal: 1m 7s\tremaining: 1m 42s\n",
      "395:\tlearn: 0.0000418\ttotal: 1m 7s\tremaining: 1m 42s\n",
      "396:\tlearn: 0.0000418\ttotal: 1m 7s\tremaining: 1m 42s\n",
      "397:\tlearn: 0.0000418\ttotal: 1m 7s\tremaining: 1m 42s\n",
      "398:\tlearn: 0.0000418\ttotal: 1m 7s\tremaining: 1m 41s\n",
      "399:\tlearn: 0.0000418\ttotal: 1m 7s\tremaining: 1m 41s\n",
      "400:\tlearn: 0.0000418\ttotal: 1m 8s\tremaining: 1m 41s\n",
      "401:\tlearn: 0.0000418\ttotal: 1m 8s\tremaining: 1m 41s\n",
      "402:\tlearn: 0.0000418\ttotal: 1m 8s\tremaining: 1m 41s\n",
      "403:\tlearn: 0.0000418\ttotal: 1m 8s\tremaining: 1m 40s\n",
      "404:\tlearn: 0.0000418\ttotal: 1m 8s\tremaining: 1m 40s\n",
      "405:\tlearn: 0.0000418\ttotal: 1m 8s\tremaining: 1m 40s\n",
      "406:\tlearn: 0.0000418\ttotal: 1m 8s\tremaining: 1m 40s\n",
      "407:\tlearn: 0.0000418\ttotal: 1m 8s\tremaining: 1m 40s\n",
      "408:\tlearn: 0.0000418\ttotal: 1m 9s\tremaining: 1m 39s\n",
      "409:\tlearn: 0.0000418\ttotal: 1m 9s\tremaining: 1m 39s\n",
      "410:\tlearn: 0.0000418\ttotal: 1m 9s\tremaining: 1m 39s\n",
      "411:\tlearn: 0.0000418\ttotal: 1m 9s\tremaining: 1m 39s\n",
      "412:\tlearn: 0.0000418\ttotal: 1m 9s\tremaining: 1m 39s\n",
      "413:\tlearn: 0.0000418\ttotal: 1m 9s\tremaining: 1m 38s\n",
      "414:\tlearn: 0.0000418\ttotal: 1m 10s\tremaining: 1m 38s\n",
      "415:\tlearn: 0.0000418\ttotal: 1m 10s\tremaining: 1m 38s\n",
      "416:\tlearn: 0.0000418\ttotal: 1m 10s\tremaining: 1m 38s\n",
      "417:\tlearn: 0.0000418\ttotal: 1m 10s\tremaining: 1m 38s\n",
      "418:\tlearn: 0.0000418\ttotal: 1m 10s\tremaining: 1m 38s\n",
      "419:\tlearn: 0.0000418\ttotal: 1m 10s\tremaining: 1m 37s\n",
      "420:\tlearn: 0.0000418\ttotal: 1m 11s\tremaining: 1m 37s\n",
      "421:\tlearn: 0.0000418\ttotal: 1m 11s\tremaining: 1m 37s\n",
      "422:\tlearn: 0.0000418\ttotal: 1m 11s\tremaining: 1m 37s\n",
      "423:\tlearn: 0.0000418\ttotal: 1m 11s\tremaining: 1m 37s\n",
      "424:\tlearn: 0.0000418\ttotal: 1m 11s\tremaining: 1m 36s\n",
      "425:\tlearn: 0.0000418\ttotal: 1m 11s\tremaining: 1m 36s\n",
      "426:\tlearn: 0.0000418\ttotal: 1m 11s\tremaining: 1m 36s\n",
      "427:\tlearn: 0.0000418\ttotal: 1m 12s\tremaining: 1m 36s\n",
      "428:\tlearn: 0.0000418\ttotal: 1m 12s\tremaining: 1m 36s\n",
      "429:\tlearn: 0.0000418\ttotal: 1m 12s\tremaining: 1m 36s\n",
      "430:\tlearn: 0.0000417\ttotal: 1m 12s\tremaining: 1m 35s\n",
      "431:\tlearn: 0.0000417\ttotal: 1m 12s\tremaining: 1m 35s\n",
      "432:\tlearn: 0.0000417\ttotal: 1m 13s\tremaining: 1m 35s\n",
      "433:\tlearn: 0.0000417\ttotal: 1m 13s\tremaining: 1m 35s\n",
      "434:\tlearn: 0.0000417\ttotal: 1m 13s\tremaining: 1m 35s\n",
      "435:\tlearn: 0.0000417\ttotal: 1m 13s\tremaining: 1m 35s\n",
      "436:\tlearn: 0.0000417\ttotal: 1m 13s\tremaining: 1m 34s\n",
      "437:\tlearn: 0.0000417\ttotal: 1m 13s\tremaining: 1m 34s\n",
      "438:\tlearn: 0.0000417\ttotal: 1m 13s\tremaining: 1m 34s\n",
      "439:\tlearn: 0.0000417\ttotal: 1m 14s\tremaining: 1m 34s\n",
      "440:\tlearn: 0.0000417\ttotal: 1m 14s\tremaining: 1m 34s\n",
      "441:\tlearn: 0.0000417\ttotal: 1m 14s\tremaining: 1m 34s\n",
      "442:\tlearn: 0.0000417\ttotal: 1m 14s\tremaining: 1m 33s\n",
      "443:\tlearn: 0.0000417\ttotal: 1m 14s\tremaining: 1m 33s\n",
      "444:\tlearn: 0.0000417\ttotal: 1m 14s\tremaining: 1m 33s\n",
      "445:\tlearn: 0.0000417\ttotal: 1m 15s\tremaining: 1m 33s\n",
      "446:\tlearn: 0.0000417\ttotal: 1m 15s\tremaining: 1m 33s\n",
      "447:\tlearn: 0.0000417\ttotal: 1m 15s\tremaining: 1m 33s\n",
      "448:\tlearn: 0.0000417\ttotal: 1m 15s\tremaining: 1m 32s\n",
      "449:\tlearn: 0.0000417\ttotal: 1m 15s\tremaining: 1m 32s\n",
      "450:\tlearn: 0.0000417\ttotal: 1m 15s\tremaining: 1m 32s\n",
      "451:\tlearn: 0.0000417\ttotal: 1m 15s\tremaining: 1m 32s\n",
      "452:\tlearn: 0.0000417\ttotal: 1m 16s\tremaining: 1m 31s\n",
      "453:\tlearn: 0.0000417\ttotal: 1m 16s\tremaining: 1m 31s\n",
      "454:\tlearn: 0.0000417\ttotal: 1m 16s\tremaining: 1m 31s\n",
      "455:\tlearn: 0.0000417\ttotal: 1m 16s\tremaining: 1m 31s\n",
      "456:\tlearn: 0.0000417\ttotal: 1m 16s\tremaining: 1m 30s\n",
      "457:\tlearn: 0.0000417\ttotal: 1m 16s\tremaining: 1m 30s\n",
      "458:\tlearn: 0.0000417\ttotal: 1m 16s\tremaining: 1m 30s\n",
      "459:\tlearn: 0.0000417\ttotal: 1m 16s\tremaining: 1m 30s\n",
      "460:\tlearn: 0.0000417\ttotal: 1m 16s\tremaining: 1m 29s\n",
      "461:\tlearn: 0.0000417\ttotal: 1m 17s\tremaining: 1m 29s\n",
      "462:\tlearn: 0.0000417\ttotal: 1m 17s\tremaining: 1m 29s\n",
      "463:\tlearn: 0.0000417\ttotal: 1m 17s\tremaining: 1m 29s\n",
      "464:\tlearn: 0.0000417\ttotal: 1m 17s\tremaining: 1m 28s\n",
      "465:\tlearn: 0.0000417\ttotal: 1m 17s\tremaining: 1m 28s\n",
      "466:\tlearn: 0.0000417\ttotal: 1m 17s\tremaining: 1m 28s\n",
      "467:\tlearn: 0.0000417\ttotal: 1m 17s\tremaining: 1m 28s\n",
      "468:\tlearn: 0.0000417\ttotal: 1m 17s\tremaining: 1m 28s\n",
      "469:\tlearn: 0.0000417\ttotal: 1m 17s\tremaining: 1m 27s\n",
      "470:\tlearn: 0.0000417\ttotal: 1m 17s\tremaining: 1m 27s\n"
     ]
    },
    {
     "name": "stdout",
     "output_type": "stream",
     "text": [
      "471:\tlearn: 0.0000417\ttotal: 1m 18s\tremaining: 1m 27s\n",
      "472:\tlearn: 0.0000417\ttotal: 1m 18s\tremaining: 1m 27s\n",
      "473:\tlearn: 0.0000417\ttotal: 1m 18s\tremaining: 1m 26s\n",
      "474:\tlearn: 0.0000417\ttotal: 1m 18s\tremaining: 1m 26s\n",
      "475:\tlearn: 0.0000417\ttotal: 1m 18s\tremaining: 1m 26s\n",
      "476:\tlearn: 0.0000417\ttotal: 1m 18s\tremaining: 1m 26s\n",
      "477:\tlearn: 0.0000417\ttotal: 1m 18s\tremaining: 1m 25s\n",
      "478:\tlearn: 0.0000417\ttotal: 1m 18s\tremaining: 1m 25s\n",
      "479:\tlearn: 0.0000417\ttotal: 1m 18s\tremaining: 1m 25s\n",
      "480:\tlearn: 0.0000417\ttotal: 1m 18s\tremaining: 1m 25s\n",
      "481:\tlearn: 0.0000417\ttotal: 1m 19s\tremaining: 1m 24s\n",
      "482:\tlearn: 0.0000417\ttotal: 1m 19s\tremaining: 1m 24s\n",
      "483:\tlearn: 0.0000417\ttotal: 1m 19s\tremaining: 1m 24s\n",
      "484:\tlearn: 0.0000417\ttotal: 1m 19s\tremaining: 1m 24s\n",
      "485:\tlearn: 0.0000417\ttotal: 1m 19s\tremaining: 1m 23s\n",
      "486:\tlearn: 0.0000417\ttotal: 1m 19s\tremaining: 1m 23s\n",
      "487:\tlearn: 0.0000417\ttotal: 1m 19s\tremaining: 1m 23s\n",
      "488:\tlearn: 0.0000417\ttotal: 1m 19s\tremaining: 1m 23s\n",
      "489:\tlearn: 0.0000417\ttotal: 1m 19s\tremaining: 1m 23s\n",
      "490:\tlearn: 0.0000417\ttotal: 1m 19s\tremaining: 1m 22s\n",
      "491:\tlearn: 0.0000416\ttotal: 1m 20s\tremaining: 1m 22s\n",
      "492:\tlearn: 0.0000416\ttotal: 1m 20s\tremaining: 1m 22s\n",
      "493:\tlearn: 0.0000416\ttotal: 1m 20s\tremaining: 1m 22s\n",
      "494:\tlearn: 0.0000416\ttotal: 1m 20s\tremaining: 1m 21s\n",
      "495:\tlearn: 0.0000416\ttotal: 1m 20s\tremaining: 1m 21s\n",
      "496:\tlearn: 0.0000416\ttotal: 1m 20s\tremaining: 1m 21s\n",
      "497:\tlearn: 0.0000416\ttotal: 1m 20s\tremaining: 1m 21s\n",
      "498:\tlearn: 0.0000416\ttotal: 1m 20s\tremaining: 1m 21s\n",
      "499:\tlearn: 0.0000416\ttotal: 1m 20s\tremaining: 1m 20s\n",
      "500:\tlearn: 0.0000416\ttotal: 1m 20s\tremaining: 1m 20s\n",
      "501:\tlearn: 0.0000416\ttotal: 1m 20s\tremaining: 1m 20s\n",
      "502:\tlearn: 0.0000416\ttotal: 1m 21s\tremaining: 1m 20s\n",
      "503:\tlearn: 0.0000416\ttotal: 1m 21s\tremaining: 1m 19s\n",
      "504:\tlearn: 0.0000416\ttotal: 1m 21s\tremaining: 1m 19s\n",
      "505:\tlearn: 0.0000416\ttotal: 1m 21s\tremaining: 1m 19s\n",
      "506:\tlearn: 0.0000416\ttotal: 1m 21s\tremaining: 1m 19s\n",
      "507:\tlearn: 0.0000416\ttotal: 1m 21s\tremaining: 1m 19s\n",
      "508:\tlearn: 0.0000416\ttotal: 1m 21s\tremaining: 1m 18s\n",
      "509:\tlearn: 0.0000416\ttotal: 1m 21s\tremaining: 1m 18s\n",
      "510:\tlearn: 0.0000416\ttotal: 1m 21s\tremaining: 1m 18s\n",
      "511:\tlearn: 0.0000416\ttotal: 1m 21s\tremaining: 1m 18s\n",
      "512:\tlearn: 0.0000416\ttotal: 1m 22s\tremaining: 1m 17s\n",
      "513:\tlearn: 0.0000416\ttotal: 1m 22s\tremaining: 1m 17s\n",
      "514:\tlearn: 0.0000416\ttotal: 1m 22s\tremaining: 1m 17s\n",
      "515:\tlearn: 0.0000416\ttotal: 1m 22s\tremaining: 1m 17s\n",
      "516:\tlearn: 0.0000416\ttotal: 1m 22s\tremaining: 1m 17s\n",
      "517:\tlearn: 0.0000416\ttotal: 1m 22s\tremaining: 1m 16s\n",
      "518:\tlearn: 0.0000416\ttotal: 1m 22s\tremaining: 1m 16s\n",
      "519:\tlearn: 0.0000416\ttotal: 1m 22s\tremaining: 1m 16s\n",
      "520:\tlearn: 0.0000416\ttotal: 1m 22s\tremaining: 1m 16s\n",
      "521:\tlearn: 0.0000416\ttotal: 1m 22s\tremaining: 1m 15s\n",
      "522:\tlearn: 0.0000416\ttotal: 1m 23s\tremaining: 1m 15s\n",
      "523:\tlearn: 0.0000416\ttotal: 1m 23s\tremaining: 1m 15s\n",
      "524:\tlearn: 0.0000416\ttotal: 1m 23s\tremaining: 1m 15s\n",
      "525:\tlearn: 0.0000416\ttotal: 1m 23s\tremaining: 1m 15s\n",
      "526:\tlearn: 0.0000416\ttotal: 1m 23s\tremaining: 1m 14s\n",
      "527:\tlearn: 0.0000416\ttotal: 1m 23s\tremaining: 1m 14s\n",
      "528:\tlearn: 0.0000416\ttotal: 1m 23s\tremaining: 1m 14s\n",
      "529:\tlearn: 0.0000416\ttotal: 1m 23s\tremaining: 1m 14s\n",
      "530:\tlearn: 0.0000416\ttotal: 1m 23s\tremaining: 1m 14s\n",
      "531:\tlearn: 0.0000416\ttotal: 1m 23s\tremaining: 1m 13s\n",
      "532:\tlearn: 0.0000416\ttotal: 1m 24s\tremaining: 1m 13s\n",
      "533:\tlearn: 0.0000416\ttotal: 1m 24s\tremaining: 1m 13s\n",
      "534:\tlearn: 0.0000416\ttotal: 1m 24s\tremaining: 1m 13s\n",
      "535:\tlearn: 0.0000416\ttotal: 1m 24s\tremaining: 1m 13s\n",
      "536:\tlearn: 0.0000416\ttotal: 1m 24s\tremaining: 1m 12s\n",
      "537:\tlearn: 0.0000416\ttotal: 1m 24s\tremaining: 1m 12s\n",
      "538:\tlearn: 0.0000416\ttotal: 1m 24s\tremaining: 1m 12s\n",
      "539:\tlearn: 0.0000416\ttotal: 1m 24s\tremaining: 1m 12s\n",
      "540:\tlearn: 0.0000416\ttotal: 1m 24s\tremaining: 1m 11s\n",
      "541:\tlearn: 0.0000416\ttotal: 1m 24s\tremaining: 1m 11s\n",
      "542:\tlearn: 0.0000416\ttotal: 1m 25s\tremaining: 1m 11s\n",
      "543:\tlearn: 0.0000416\ttotal: 1m 25s\tremaining: 1m 11s\n",
      "544:\tlearn: 0.0000416\ttotal: 1m 25s\tremaining: 1m 11s\n",
      "545:\tlearn: 0.0000416\ttotal: 1m 25s\tremaining: 1m 10s\n",
      "546:\tlearn: 0.0000416\ttotal: 1m 25s\tremaining: 1m 10s\n",
      "547:\tlearn: 0.0000416\ttotal: 1m 25s\tremaining: 1m 10s\n",
      "548:\tlearn: 0.0000416\ttotal: 1m 25s\tremaining: 1m 10s\n",
      "549:\tlearn: 0.0000416\ttotal: 1m 25s\tremaining: 1m 10s\n",
      "550:\tlearn: 0.0000416\ttotal: 1m 25s\tremaining: 1m 9s\n",
      "551:\tlearn: 0.0000416\ttotal: 1m 25s\tremaining: 1m 9s\n",
      "552:\tlearn: 0.0000416\ttotal: 1m 26s\tremaining: 1m 9s\n",
      "553:\tlearn: 0.0000416\ttotal: 1m 26s\tremaining: 1m 9s\n",
      "554:\tlearn: 0.0000416\ttotal: 1m 26s\tremaining: 1m 9s\n",
      "555:\tlearn: 0.0000416\ttotal: 1m 26s\tremaining: 1m 8s\n",
      "556:\tlearn: 0.0000416\ttotal: 1m 26s\tremaining: 1m 8s\n",
      "557:\tlearn: 0.0000416\ttotal: 1m 26s\tremaining: 1m 8s\n",
      "558:\tlearn: 0.0000416\ttotal: 1m 26s\tremaining: 1m 8s\n",
      "559:\tlearn: 0.0000416\ttotal: 1m 26s\tremaining: 1m 8s\n",
      "560:\tlearn: 0.0000416\ttotal: 1m 26s\tremaining: 1m 7s\n",
      "561:\tlearn: 0.0000416\ttotal: 1m 26s\tremaining: 1m 7s\n",
      "562:\tlearn: 0.0000416\ttotal: 1m 27s\tremaining: 1m 7s\n",
      "563:\tlearn: 0.0000416\ttotal: 1m 27s\tremaining: 1m 7s\n",
      "564:\tlearn: 0.0000416\ttotal: 1m 27s\tremaining: 1m 7s\n",
      "565:\tlearn: 0.0000416\ttotal: 1m 27s\tremaining: 1m 6s\n",
      "566:\tlearn: 0.0000416\ttotal: 1m 27s\tremaining: 1m 6s\n",
      "567:\tlearn: 0.0000416\ttotal: 1m 27s\tremaining: 1m 6s\n",
      "568:\tlearn: 0.0000416\ttotal: 1m 27s\tremaining: 1m 6s\n",
      "569:\tlearn: 0.0000416\ttotal: 1m 27s\tremaining: 1m 6s\n",
      "570:\tlearn: 0.0000416\ttotal: 1m 27s\tremaining: 1m 6s\n",
      "571:\tlearn: 0.0000416\ttotal: 1m 27s\tremaining: 1m 5s\n",
      "572:\tlearn: 0.0000416\ttotal: 1m 28s\tremaining: 1m 5s\n",
      "573:\tlearn: 0.0000416\ttotal: 1m 28s\tremaining: 1m 5s\n",
      "574:\tlearn: 0.0000416\ttotal: 1m 28s\tremaining: 1m 5s\n",
      "575:\tlearn: 0.0000416\ttotal: 1m 28s\tremaining: 1m 5s\n",
      "576:\tlearn: 0.0000416\ttotal: 1m 28s\tremaining: 1m 4s\n",
      "577:\tlearn: 0.0000416\ttotal: 1m 28s\tremaining: 1m 4s\n",
      "578:\tlearn: 0.0000416\ttotal: 1m 28s\tremaining: 1m 4s\n",
      "579:\tlearn: 0.0000416\ttotal: 1m 28s\tremaining: 1m 4s\n",
      "580:\tlearn: 0.0000416\ttotal: 1m 28s\tremaining: 1m 4s\n",
      "581:\tlearn: 0.0000416\ttotal: 1m 28s\tremaining: 1m 3s\n",
      "582:\tlearn: 0.0000416\ttotal: 1m 29s\tremaining: 1m 3s\n",
      "583:\tlearn: 0.0000416\ttotal: 1m 29s\tremaining: 1m 3s\n",
      "584:\tlearn: 0.0000416\ttotal: 1m 29s\tremaining: 1m 3s\n",
      "585:\tlearn: 0.0000416\ttotal: 1m 29s\tremaining: 1m 3s\n",
      "586:\tlearn: 0.0000416\ttotal: 1m 29s\tremaining: 1m 2s\n",
      "587:\tlearn: 0.0000416\ttotal: 1m 29s\tremaining: 1m 2s\n",
      "588:\tlearn: 0.0000415\ttotal: 1m 29s\tremaining: 1m 2s\n",
      "589:\tlearn: 0.0000415\ttotal: 1m 29s\tremaining: 1m 2s\n",
      "590:\tlearn: 0.0000415\ttotal: 1m 29s\tremaining: 1m 2s\n",
      "591:\tlearn: 0.0000415\ttotal: 1m 29s\tremaining: 1m 2s\n",
      "592:\tlearn: 0.0000415\ttotal: 1m 30s\tremaining: 1m 1s\n",
      "593:\tlearn: 0.0000415\ttotal: 1m 30s\tremaining: 1m 1s\n",
      "594:\tlearn: 0.0000415\ttotal: 1m 30s\tremaining: 1m 1s\n",
      "595:\tlearn: 0.0000415\ttotal: 1m 30s\tremaining: 1m 1s\n",
      "596:\tlearn: 0.0000415\ttotal: 1m 30s\tremaining: 1m 1s\n",
      "597:\tlearn: 0.0000415\ttotal: 1m 30s\tremaining: 1m\n",
      "598:\tlearn: 0.0000415\ttotal: 1m 30s\tremaining: 1m\n",
      "599:\tlearn: 0.0000415\ttotal: 1m 30s\tremaining: 1m\n",
      "600:\tlearn: 0.0000415\ttotal: 1m 30s\tremaining: 1m\n",
      "601:\tlearn: 0.0000415\ttotal: 1m 30s\tremaining: 1m\n",
      "602:\tlearn: 0.0000415\ttotal: 1m 31s\tremaining: 60s\n",
      "603:\tlearn: 0.0000415\ttotal: 1m 31s\tremaining: 59.8s\n",
      "604:\tlearn: 0.0000415\ttotal: 1m 31s\tremaining: 59.6s\n",
      "605:\tlearn: 0.0000415\ttotal: 1m 31s\tremaining: 59.4s\n",
      "606:\tlearn: 0.0000415\ttotal: 1m 31s\tremaining: 59.2s\n",
      "607:\tlearn: 0.0000415\ttotal: 1m 31s\tremaining: 59s\n",
      "608:\tlearn: 0.0000415\ttotal: 1m 31s\tremaining: 58.9s\n",
      "609:\tlearn: 0.0000415\ttotal: 1m 31s\tremaining: 58.7s\n",
      "610:\tlearn: 0.0000415\ttotal: 1m 31s\tremaining: 58.5s\n",
      "611:\tlearn: 0.0000415\ttotal: 1m 31s\tremaining: 58.3s\n",
      "612:\tlearn: 0.0000415\ttotal: 1m 32s\tremaining: 58.1s\n",
      "613:\tlearn: 0.0000415\ttotal: 1m 32s\tremaining: 58s\n",
      "614:\tlearn: 0.0000415\ttotal: 1m 32s\tremaining: 57.8s\n",
      "615:\tlearn: 0.0000415\ttotal: 1m 32s\tremaining: 57.6s\n",
      "616:\tlearn: 0.0000415\ttotal: 1m 32s\tremaining: 57.4s\n",
      "617:\tlearn: 0.0000415\ttotal: 1m 32s\tremaining: 57.2s\n",
      "618:\tlearn: 0.0000415\ttotal: 1m 32s\tremaining: 57s\n",
      "619:\tlearn: 0.0000415\ttotal: 1m 32s\tremaining: 56.9s\n",
      "620:\tlearn: 0.0000415\ttotal: 1m 32s\tremaining: 56.7s\n",
      "621:\tlearn: 0.0000415\ttotal: 1m 32s\tremaining: 56.5s\n",
      "622:\tlearn: 0.0000415\ttotal: 1m 33s\tremaining: 56.3s\n",
      "623:\tlearn: 0.0000415\ttotal: 1m 33s\tremaining: 56.1s\n",
      "624:\tlearn: 0.0000415\ttotal: 1m 33s\tremaining: 56s\n",
      "625:\tlearn: 0.0000415\ttotal: 1m 33s\tremaining: 55.8s\n",
      "626:\tlearn: 0.0000415\ttotal: 1m 33s\tremaining: 55.6s\n"
     ]
    },
    {
     "name": "stdout",
     "output_type": "stream",
     "text": [
      "627:\tlearn: 0.0000415\ttotal: 1m 33s\tremaining: 55.4s\n",
      "628:\tlearn: 0.0000415\ttotal: 1m 33s\tremaining: 55.3s\n",
      "629:\tlearn: 0.0000415\ttotal: 1m 33s\tremaining: 55.1s\n",
      "630:\tlearn: 0.0000415\ttotal: 1m 33s\tremaining: 54.9s\n",
      "631:\tlearn: 0.0000415\ttotal: 1m 33s\tremaining: 54.7s\n",
      "632:\tlearn: 0.0000415\ttotal: 1m 34s\tremaining: 54.5s\n",
      "633:\tlearn: 0.0000415\ttotal: 1m 34s\tremaining: 54.4s\n",
      "634:\tlearn: 0.0000415\ttotal: 1m 34s\tremaining: 54.2s\n",
      "635:\tlearn: 0.0000415\ttotal: 1m 34s\tremaining: 54s\n",
      "636:\tlearn: 0.0000415\ttotal: 1m 34s\tremaining: 53.8s\n",
      "637:\tlearn: 0.0000415\ttotal: 1m 34s\tremaining: 53.7s\n",
      "638:\tlearn: 0.0000415\ttotal: 1m 34s\tremaining: 53.5s\n",
      "639:\tlearn: 0.0000415\ttotal: 1m 34s\tremaining: 53.3s\n",
      "640:\tlearn: 0.0000415\ttotal: 1m 34s\tremaining: 53.1s\n",
      "641:\tlearn: 0.0000415\ttotal: 1m 34s\tremaining: 53s\n",
      "642:\tlearn: 0.0000415\ttotal: 1m 35s\tremaining: 52.8s\n",
      "643:\tlearn: 0.0000415\ttotal: 1m 35s\tremaining: 52.6s\n",
      "644:\tlearn: 0.0000415\ttotal: 1m 35s\tremaining: 52.4s\n",
      "645:\tlearn: 0.0000415\ttotal: 1m 35s\tremaining: 52.3s\n",
      "646:\tlearn: 0.0000415\ttotal: 1m 35s\tremaining: 52.1s\n",
      "647:\tlearn: 0.0000415\ttotal: 1m 35s\tremaining: 51.9s\n",
      "648:\tlearn: 0.0000415\ttotal: 1m 35s\tremaining: 51.7s\n",
      "649:\tlearn: 0.0000415\ttotal: 1m 35s\tremaining: 51.6s\n",
      "650:\tlearn: 0.0000415\ttotal: 1m 35s\tremaining: 51.4s\n",
      "651:\tlearn: 0.0000415\ttotal: 1m 35s\tremaining: 51.2s\n",
      "652:\tlearn: 0.0000415\ttotal: 1m 36s\tremaining: 51.1s\n",
      "653:\tlearn: 0.0000415\ttotal: 1m 36s\tremaining: 50.9s\n",
      "654:\tlearn: 0.0000415\ttotal: 1m 36s\tremaining: 50.7s\n",
      "655:\tlearn: 0.0000415\ttotal: 1m 36s\tremaining: 50.5s\n",
      "656:\tlearn: 0.0000415\ttotal: 1m 36s\tremaining: 50.4s\n",
      "657:\tlearn: 0.0000415\ttotal: 1m 36s\tremaining: 50.2s\n",
      "658:\tlearn: 0.0000415\ttotal: 1m 36s\tremaining: 50s\n",
      "659:\tlearn: 0.0000415\ttotal: 1m 36s\tremaining: 49.9s\n",
      "660:\tlearn: 0.0000415\ttotal: 1m 36s\tremaining: 49.7s\n",
      "661:\tlearn: 0.0000415\ttotal: 1m 37s\tremaining: 49.5s\n",
      "662:\tlearn: 0.0000415\ttotal: 1m 37s\tremaining: 49.4s\n",
      "663:\tlearn: 0.0000415\ttotal: 1m 37s\tremaining: 49.2s\n",
      "664:\tlearn: 0.0000415\ttotal: 1m 37s\tremaining: 49.1s\n",
      "665:\tlearn: 0.0000415\ttotal: 1m 37s\tremaining: 48.9s\n",
      "666:\tlearn: 0.0000415\ttotal: 1m 37s\tremaining: 48.7s\n",
      "667:\tlearn: 0.0000415\ttotal: 1m 37s\tremaining: 48.6s\n",
      "668:\tlearn: 0.0000415\ttotal: 1m 37s\tremaining: 48.4s\n",
      "669:\tlearn: 0.0000415\ttotal: 1m 37s\tremaining: 48.2s\n",
      "670:\tlearn: 0.0000415\ttotal: 1m 38s\tremaining: 48.1s\n",
      "671:\tlearn: 0.0000415\ttotal: 1m 38s\tremaining: 47.9s\n",
      "672:\tlearn: 0.0000415\ttotal: 1m 38s\tremaining: 47.8s\n",
      "673:\tlearn: 0.0000415\ttotal: 1m 38s\tremaining: 47.6s\n",
      "674:\tlearn: 0.0000415\ttotal: 1m 38s\tremaining: 47.4s\n",
      "675:\tlearn: 0.0000415\ttotal: 1m 38s\tremaining: 47.3s\n",
      "676:\tlearn: 0.0000415\ttotal: 1m 38s\tremaining: 47.1s\n",
      "677:\tlearn: 0.0000415\ttotal: 1m 38s\tremaining: 47s\n",
      "678:\tlearn: 0.0000415\ttotal: 1m 39s\tremaining: 46.8s\n",
      "679:\tlearn: 0.0000415\ttotal: 1m 39s\tremaining: 46.6s\n",
      "680:\tlearn: 0.0000415\ttotal: 1m 39s\tremaining: 46.5s\n",
      "681:\tlearn: 0.0000415\ttotal: 1m 39s\tremaining: 46.3s\n",
      "682:\tlearn: 0.0000415\ttotal: 1m 39s\tremaining: 46.2s\n",
      "683:\tlearn: 0.0000415\ttotal: 1m 39s\tremaining: 46s\n",
      "684:\tlearn: 0.0000415\ttotal: 1m 39s\tremaining: 45.8s\n",
      "685:\tlearn: 0.0000415\ttotal: 1m 39s\tremaining: 45.7s\n",
      "686:\tlearn: 0.0000415\ttotal: 1m 39s\tremaining: 45.5s\n",
      "687:\tlearn: 0.0000415\ttotal: 1m 40s\tremaining: 45.4s\n",
      "688:\tlearn: 0.0000415\ttotal: 1m 40s\tremaining: 45.2s\n",
      "689:\tlearn: 0.0000415\ttotal: 1m 40s\tremaining: 45s\n",
      "690:\tlearn: 0.0000415\ttotal: 1m 40s\tremaining: 44.9s\n",
      "691:\tlearn: 0.0000415\ttotal: 1m 40s\tremaining: 44.7s\n",
      "692:\tlearn: 0.0000415\ttotal: 1m 40s\tremaining: 44.6s\n",
      "693:\tlearn: 0.0000415\ttotal: 1m 40s\tremaining: 44.4s\n",
      "694:\tlearn: 0.0000415\ttotal: 1m 40s\tremaining: 44.2s\n",
      "695:\tlearn: 0.0000415\ttotal: 1m 40s\tremaining: 44.1s\n",
      "696:\tlearn: 0.0000415\ttotal: 1m 41s\tremaining: 43.9s\n",
      "697:\tlearn: 0.0000415\ttotal: 1m 41s\tremaining: 43.8s\n",
      "698:\tlearn: 0.0000415\ttotal: 1m 41s\tremaining: 43.6s\n",
      "699:\tlearn: 0.0000415\ttotal: 1m 41s\tremaining: 43.5s\n",
      "700:\tlearn: 0.0000415\ttotal: 1m 41s\tremaining: 43.3s\n",
      "701:\tlearn: 0.0000415\ttotal: 1m 41s\tremaining: 43.1s\n",
      "702:\tlearn: 0.0000415\ttotal: 1m 41s\tremaining: 43s\n",
      "703:\tlearn: 0.0000415\ttotal: 1m 41s\tremaining: 42.8s\n",
      "704:\tlearn: 0.0000415\ttotal: 1m 41s\tremaining: 42.7s\n",
      "705:\tlearn: 0.0000415\ttotal: 1m 42s\tremaining: 42.5s\n",
      "706:\tlearn: 0.0000415\ttotal: 1m 42s\tremaining: 42.3s\n",
      "707:\tlearn: 0.0000415\ttotal: 1m 42s\tremaining: 42.2s\n",
      "708:\tlearn: 0.0000415\ttotal: 1m 42s\tremaining: 42s\n",
      "709:\tlearn: 0.0000415\ttotal: 1m 42s\tremaining: 41.9s\n",
      "710:\tlearn: 0.0000415\ttotal: 1m 42s\tremaining: 41.7s\n",
      "711:\tlearn: 0.0000415\ttotal: 1m 42s\tremaining: 41.6s\n",
      "712:\tlearn: 0.0000415\ttotal: 1m 42s\tremaining: 41.4s\n",
      "713:\tlearn: 0.0000415\ttotal: 1m 42s\tremaining: 41.2s\n",
      "714:\tlearn: 0.0000415\ttotal: 1m 43s\tremaining: 41.1s\n",
      "715:\tlearn: 0.0000415\ttotal: 1m 43s\tremaining: 40.9s\n",
      "716:\tlearn: 0.0000415\ttotal: 1m 43s\tremaining: 40.8s\n",
      "717:\tlearn: 0.0000415\ttotal: 1m 43s\tremaining: 40.6s\n",
      "718:\tlearn: 0.0000415\ttotal: 1m 43s\tremaining: 40.5s\n",
      "719:\tlearn: 0.0000415\ttotal: 1m 43s\tremaining: 40.3s\n",
      "720:\tlearn: 0.0000415\ttotal: 1m 43s\tremaining: 40.1s\n",
      "721:\tlearn: 0.0000415\ttotal: 1m 43s\tremaining: 40s\n",
      "722:\tlearn: 0.0000415\ttotal: 1m 43s\tremaining: 39.8s\n",
      "723:\tlearn: 0.0000415\ttotal: 1m 44s\tremaining: 39.7s\n",
      "724:\tlearn: 0.0000415\ttotal: 1m 44s\tremaining: 39.5s\n",
      "725:\tlearn: 0.0000415\ttotal: 1m 44s\tremaining: 39.4s\n",
      "726:\tlearn: 0.0000415\ttotal: 1m 44s\tremaining: 39.2s\n",
      "727:\tlearn: 0.0000415\ttotal: 1m 44s\tremaining: 39s\n",
      "728:\tlearn: 0.0000415\ttotal: 1m 44s\tremaining: 38.9s\n",
      "729:\tlearn: 0.0000415\ttotal: 1m 44s\tremaining: 38.7s\n",
      "730:\tlearn: 0.0000415\ttotal: 1m 44s\tremaining: 38.6s\n",
      "731:\tlearn: 0.0000415\ttotal: 1m 44s\tremaining: 38.4s\n",
      "732:\tlearn: 0.0000415\ttotal: 1m 45s\tremaining: 38.3s\n",
      "733:\tlearn: 0.0000415\ttotal: 1m 45s\tremaining: 38.1s\n",
      "734:\tlearn: 0.0000415\ttotal: 1m 45s\tremaining: 38s\n",
      "735:\tlearn: 0.0000415\ttotal: 1m 45s\tremaining: 37.8s\n",
      "736:\tlearn: 0.0000415\ttotal: 1m 45s\tremaining: 37.6s\n",
      "737:\tlearn: 0.0000415\ttotal: 1m 45s\tremaining: 37.5s\n",
      "738:\tlearn: 0.0000415\ttotal: 1m 45s\tremaining: 37.3s\n",
      "739:\tlearn: 0.0000415\ttotal: 1m 45s\tremaining: 37.2s\n",
      "740:\tlearn: 0.0000415\ttotal: 1m 45s\tremaining: 37s\n",
      "741:\tlearn: 0.0000415\ttotal: 1m 46s\tremaining: 36.9s\n",
      "742:\tlearn: 0.0000415\ttotal: 1m 46s\tremaining: 36.7s\n",
      "743:\tlearn: 0.0000415\ttotal: 1m 46s\tremaining: 36.5s\n",
      "744:\tlearn: 0.0000415\ttotal: 1m 46s\tremaining: 36.4s\n",
      "745:\tlearn: 0.0000415\ttotal: 1m 46s\tremaining: 36.2s\n",
      "746:\tlearn: 0.0000415\ttotal: 1m 46s\tremaining: 36.1s\n",
      "747:\tlearn: 0.0000415\ttotal: 1m 46s\tremaining: 35.9s\n",
      "748:\tlearn: 0.0000415\ttotal: 1m 46s\tremaining: 35.8s\n",
      "749:\tlearn: 0.0000415\ttotal: 1m 46s\tremaining: 35.6s\n",
      "750:\tlearn: 0.0000415\ttotal: 1m 46s\tremaining: 35.4s\n",
      "751:\tlearn: 0.0000415\ttotal: 1m 47s\tremaining: 35.3s\n",
      "752:\tlearn: 0.0000415\ttotal: 1m 47s\tremaining: 35.1s\n",
      "753:\tlearn: 0.0000415\ttotal: 1m 47s\tremaining: 35s\n",
      "754:\tlearn: 0.0000415\ttotal: 1m 47s\tremaining: 34.8s\n",
      "755:\tlearn: 0.0000415\ttotal: 1m 47s\tremaining: 34.7s\n",
      "756:\tlearn: 0.0000415\ttotal: 1m 47s\tremaining: 34.5s\n",
      "757:\tlearn: 0.0000415\ttotal: 1m 47s\tremaining: 34.4s\n",
      "758:\tlearn: 0.0000415\ttotal: 1m 47s\tremaining: 34.2s\n",
      "759:\tlearn: 0.0000415\ttotal: 1m 47s\tremaining: 34s\n",
      "760:\tlearn: 0.0000415\ttotal: 1m 47s\tremaining: 33.9s\n",
      "761:\tlearn: 0.0000415\ttotal: 1m 48s\tremaining: 33.7s\n",
      "762:\tlearn: 0.0000415\ttotal: 1m 48s\tremaining: 33.6s\n",
      "763:\tlearn: 0.0000415\ttotal: 1m 48s\tremaining: 33.4s\n",
      "764:\tlearn: 0.0000415\ttotal: 1m 48s\tremaining: 33.3s\n",
      "765:\tlearn: 0.0000415\ttotal: 1m 48s\tremaining: 33.1s\n",
      "766:\tlearn: 0.0000414\ttotal: 1m 48s\tremaining: 33s\n",
      "767:\tlearn: 0.0000414\ttotal: 1m 48s\tremaining: 32.8s\n",
      "768:\tlearn: 0.0000414\ttotal: 1m 48s\tremaining: 32.7s\n",
      "769:\tlearn: 0.0000414\ttotal: 1m 48s\tremaining: 32.5s\n",
      "770:\tlearn: 0.0000414\ttotal: 1m 48s\tremaining: 32.4s\n",
      "771:\tlearn: 0.0000414\ttotal: 1m 49s\tremaining: 32.2s\n",
      "772:\tlearn: 0.0000414\ttotal: 1m 49s\tremaining: 32s\n",
      "773:\tlearn: 0.0000414\ttotal: 1m 49s\tremaining: 31.9s\n",
      "774:\tlearn: 0.0000414\ttotal: 1m 49s\tremaining: 31.7s\n",
      "775:\tlearn: 0.0000414\ttotal: 1m 49s\tremaining: 31.6s\n",
      "776:\tlearn: 0.0000414\ttotal: 1m 49s\tremaining: 31.4s\n",
      "777:\tlearn: 0.0000414\ttotal: 1m 49s\tremaining: 31.3s\n",
      "778:\tlearn: 0.0000414\ttotal: 1m 49s\tremaining: 31.1s\n",
      "779:\tlearn: 0.0000414\ttotal: 1m 49s\tremaining: 31s\n",
      "780:\tlearn: 0.0000414\ttotal: 1m 49s\tremaining: 30.8s\n",
      "781:\tlearn: 0.0000414\ttotal: 1m 50s\tremaining: 30.7s\n",
      "782:\tlearn: 0.0000414\ttotal: 1m 50s\tremaining: 30.5s\n",
      "783:\tlearn: 0.0000414\ttotal: 1m 50s\tremaining: 30.4s\n"
     ]
    },
    {
     "name": "stdout",
     "output_type": "stream",
     "text": [
      "784:\tlearn: 0.0000414\ttotal: 1m 50s\tremaining: 30.2s\n",
      "785:\tlearn: 0.0000414\ttotal: 1m 50s\tremaining: 30.1s\n",
      "786:\tlearn: 0.0000414\ttotal: 1m 50s\tremaining: 29.9s\n",
      "787:\tlearn: 0.0000414\ttotal: 1m 50s\tremaining: 29.8s\n",
      "788:\tlearn: 0.0000414\ttotal: 1m 50s\tremaining: 29.6s\n",
      "789:\tlearn: 0.0000414\ttotal: 1m 50s\tremaining: 29.5s\n",
      "790:\tlearn: 0.0000414\ttotal: 1m 50s\tremaining: 29.3s\n",
      "791:\tlearn: 0.0000414\ttotal: 1m 51s\tremaining: 29.2s\n",
      "792:\tlearn: 0.0000414\ttotal: 1m 51s\tremaining: 29s\n",
      "793:\tlearn: 0.0000414\ttotal: 1m 51s\tremaining: 28.9s\n",
      "794:\tlearn: 0.0000414\ttotal: 1m 51s\tremaining: 28.7s\n",
      "795:\tlearn: 0.0000414\ttotal: 1m 51s\tremaining: 28.6s\n",
      "796:\tlearn: 0.0000414\ttotal: 1m 51s\tremaining: 28.4s\n",
      "797:\tlearn: 0.0000414\ttotal: 1m 51s\tremaining: 28.3s\n",
      "798:\tlearn: 0.0000414\ttotal: 1m 51s\tremaining: 28.1s\n",
      "799:\tlearn: 0.0000414\ttotal: 1m 51s\tremaining: 28s\n",
      "800:\tlearn: 0.0000414\ttotal: 1m 52s\tremaining: 27.8s\n",
      "801:\tlearn: 0.0000414\ttotal: 1m 52s\tremaining: 27.7s\n",
      "802:\tlearn: 0.0000414\ttotal: 1m 52s\tremaining: 27.6s\n",
      "803:\tlearn: 0.0000414\ttotal: 1m 52s\tremaining: 27.4s\n",
      "804:\tlearn: 0.0000414\ttotal: 1m 52s\tremaining: 27.3s\n",
      "805:\tlearn: 0.0000414\ttotal: 1m 52s\tremaining: 27.1s\n",
      "806:\tlearn: 0.0000414\ttotal: 1m 52s\tremaining: 27s\n",
      "807:\tlearn: 0.0000414\ttotal: 1m 52s\tremaining: 26.8s\n",
      "808:\tlearn: 0.0000414\ttotal: 1m 53s\tremaining: 26.7s\n",
      "809:\tlearn: 0.0000414\ttotal: 1m 53s\tremaining: 26.5s\n",
      "810:\tlearn: 0.0000414\ttotal: 1m 53s\tremaining: 26.4s\n",
      "811:\tlearn: 0.0000414\ttotal: 1m 53s\tremaining: 26.2s\n",
      "812:\tlearn: 0.0000414\ttotal: 1m 53s\tremaining: 26.1s\n",
      "813:\tlearn: 0.0000414\ttotal: 1m 53s\tremaining: 25.9s\n",
      "814:\tlearn: 0.0000414\ttotal: 1m 53s\tremaining: 25.8s\n",
      "815:\tlearn: 0.0000414\ttotal: 1m 53s\tremaining: 25.7s\n",
      "816:\tlearn: 0.0000414\ttotal: 1m 53s\tremaining: 25.5s\n",
      "817:\tlearn: 0.0000414\ttotal: 1m 53s\tremaining: 25.4s\n",
      "818:\tlearn: 0.0000414\ttotal: 1m 54s\tremaining: 25.2s\n",
      "819:\tlearn: 0.0000414\ttotal: 1m 54s\tremaining: 25.1s\n",
      "820:\tlearn: 0.0000414\ttotal: 1m 54s\tremaining: 24.9s\n",
      "821:\tlearn: 0.0000414\ttotal: 1m 54s\tremaining: 24.8s\n",
      "822:\tlearn: 0.0000414\ttotal: 1m 54s\tremaining: 24.6s\n",
      "823:\tlearn: 0.0000414\ttotal: 1m 54s\tremaining: 24.5s\n",
      "824:\tlearn: 0.0000414\ttotal: 1m 54s\tremaining: 24.3s\n",
      "825:\tlearn: 0.0000414\ttotal: 1m 54s\tremaining: 24.2s\n",
      "826:\tlearn: 0.0000414\ttotal: 1m 54s\tremaining: 24s\n",
      "827:\tlearn: 0.0000414\ttotal: 1m 55s\tremaining: 23.9s\n",
      "828:\tlearn: 0.0000414\ttotal: 1m 55s\tremaining: 23.7s\n",
      "829:\tlearn: 0.0000414\ttotal: 1m 55s\tremaining: 23.6s\n",
      "830:\tlearn: 0.0000414\ttotal: 1m 55s\tremaining: 23.5s\n",
      "831:\tlearn: 0.0000414\ttotal: 1m 55s\tremaining: 23.3s\n",
      "832:\tlearn: 0.0000414\ttotal: 1m 55s\tremaining: 23.2s\n",
      "833:\tlearn: 0.0000414\ttotal: 1m 55s\tremaining: 23s\n",
      "834:\tlearn: 0.0000414\ttotal: 1m 55s\tremaining: 22.9s\n",
      "835:\tlearn: 0.0000414\ttotal: 1m 55s\tremaining: 22.7s\n",
      "836:\tlearn: 0.0000414\ttotal: 1m 55s\tremaining: 22.6s\n",
      "837:\tlearn: 0.0000414\ttotal: 1m 56s\tremaining: 22.4s\n",
      "838:\tlearn: 0.0000414\ttotal: 1m 56s\tremaining: 22.3s\n",
      "839:\tlearn: 0.0000414\ttotal: 1m 56s\tremaining: 22.1s\n",
      "840:\tlearn: 0.0000414\ttotal: 1m 56s\tremaining: 22s\n",
      "841:\tlearn: 0.0000414\ttotal: 1m 56s\tremaining: 21.8s\n",
      "842:\tlearn: 0.0000414\ttotal: 1m 56s\tremaining: 21.7s\n",
      "843:\tlearn: 0.0000414\ttotal: 1m 56s\tremaining: 21.6s\n",
      "844:\tlearn: 0.0000414\ttotal: 1m 56s\tremaining: 21.4s\n",
      "845:\tlearn: 0.0000414\ttotal: 1m 56s\tremaining: 21.3s\n",
      "846:\tlearn: 0.0000414\ttotal: 1m 56s\tremaining: 21.1s\n",
      "847:\tlearn: 0.0000414\ttotal: 1m 57s\tremaining: 21s\n",
      "848:\tlearn: 0.0000414\ttotal: 1m 57s\tremaining: 20.8s\n",
      "849:\tlearn: 0.0000414\ttotal: 1m 57s\tremaining: 20.7s\n",
      "850:\tlearn: 0.0000414\ttotal: 1m 57s\tremaining: 20.5s\n",
      "851:\tlearn: 0.0000414\ttotal: 1m 57s\tremaining: 20.4s\n",
      "852:\tlearn: 0.0000414\ttotal: 1m 57s\tremaining: 20.3s\n",
      "853:\tlearn: 0.0000414\ttotal: 1m 57s\tremaining: 20.1s\n",
      "854:\tlearn: 0.0000414\ttotal: 1m 57s\tremaining: 20s\n",
      "855:\tlearn: 0.0000414\ttotal: 1m 57s\tremaining: 19.8s\n",
      "856:\tlearn: 0.0000414\ttotal: 1m 57s\tremaining: 19.7s\n",
      "857:\tlearn: 0.0000414\ttotal: 1m 58s\tremaining: 19.5s\n",
      "858:\tlearn: 0.0000414\ttotal: 1m 58s\tremaining: 19.4s\n",
      "859:\tlearn: 0.0000414\ttotal: 1m 58s\tremaining: 19.2s\n",
      "860:\tlearn: 0.0000414\ttotal: 1m 58s\tremaining: 19.1s\n",
      "861:\tlearn: 0.0000414\ttotal: 1m 58s\tremaining: 19s\n",
      "862:\tlearn: 0.0000414\ttotal: 1m 58s\tremaining: 18.8s\n",
      "863:\tlearn: 0.0000414\ttotal: 1m 58s\tremaining: 18.7s\n",
      "864:\tlearn: 0.0000414\ttotal: 1m 58s\tremaining: 18.5s\n",
      "865:\tlearn: 0.0000414\ttotal: 1m 58s\tremaining: 18.4s\n",
      "866:\tlearn: 0.0000414\ttotal: 1m 58s\tremaining: 18.2s\n",
      "867:\tlearn: 0.0000414\ttotal: 1m 59s\tremaining: 18.1s\n",
      "868:\tlearn: 0.0000414\ttotal: 1m 59s\tremaining: 18s\n",
      "869:\tlearn: 0.0000414\ttotal: 1m 59s\tremaining: 17.8s\n",
      "870:\tlearn: 0.0000414\ttotal: 1m 59s\tremaining: 17.7s\n",
      "871:\tlearn: 0.0000414\ttotal: 1m 59s\tremaining: 17.5s\n",
      "872:\tlearn: 0.0000414\ttotal: 1m 59s\tremaining: 17.4s\n",
      "873:\tlearn: 0.0000414\ttotal: 1m 59s\tremaining: 17.2s\n",
      "874:\tlearn: 0.0000414\ttotal: 1m 59s\tremaining: 17.1s\n",
      "875:\tlearn: 0.0000414\ttotal: 1m 59s\tremaining: 17s\n",
      "876:\tlearn: 0.0000414\ttotal: 1m 59s\tremaining: 16.8s\n",
      "877:\tlearn: 0.0000414\ttotal: 2m\tremaining: 16.7s\n",
      "878:\tlearn: 0.0000414\ttotal: 2m\tremaining: 16.5s\n",
      "879:\tlearn: 0.0000414\ttotal: 2m\tremaining: 16.4s\n",
      "880:\tlearn: 0.0000414\ttotal: 2m\tremaining: 16.3s\n",
      "881:\tlearn: 0.0000414\ttotal: 2m\tremaining: 16.1s\n",
      "882:\tlearn: 0.0000414\ttotal: 2m\tremaining: 16s\n",
      "883:\tlearn: 0.0000414\ttotal: 2m\tremaining: 15.8s\n",
      "884:\tlearn: 0.0000414\ttotal: 2m\tremaining: 15.7s\n",
      "885:\tlearn: 0.0000414\ttotal: 2m\tremaining: 15.5s\n",
      "886:\tlearn: 0.0000414\ttotal: 2m\tremaining: 15.4s\n",
      "887:\tlearn: 0.0000414\ttotal: 2m 1s\tremaining: 15.3s\n",
      "888:\tlearn: 0.0000414\ttotal: 2m 1s\tremaining: 15.1s\n",
      "889:\tlearn: 0.0000414\ttotal: 2m 1s\tremaining: 15s\n",
      "890:\tlearn: 0.0000414\ttotal: 2m 1s\tremaining: 14.8s\n",
      "891:\tlearn: 0.0000414\ttotal: 2m 1s\tremaining: 14.7s\n",
      "892:\tlearn: 0.0000414\ttotal: 2m 1s\tremaining: 14.6s\n",
      "893:\tlearn: 0.0000414\ttotal: 2m 1s\tremaining: 14.4s\n",
      "894:\tlearn: 0.0000414\ttotal: 2m 1s\tremaining: 14.3s\n",
      "895:\tlearn: 0.0000414\ttotal: 2m 1s\tremaining: 14.1s\n",
      "896:\tlearn: 0.0000414\ttotal: 2m 1s\tremaining: 14s\n",
      "897:\tlearn: 0.0000414\ttotal: 2m 2s\tremaining: 13.9s\n",
      "898:\tlearn: 0.0000414\ttotal: 2m 2s\tremaining: 13.7s\n",
      "899:\tlearn: 0.0000414\ttotal: 2m 2s\tremaining: 13.6s\n",
      "900:\tlearn: 0.0000414\ttotal: 2m 2s\tremaining: 13.4s\n",
      "901:\tlearn: 0.0000414\ttotal: 2m 2s\tremaining: 13.3s\n",
      "902:\tlearn: 0.0000414\ttotal: 2m 2s\tremaining: 13.2s\n",
      "903:\tlearn: 0.0000414\ttotal: 2m 2s\tremaining: 13s\n",
      "904:\tlearn: 0.0000414\ttotal: 2m 2s\tremaining: 12.9s\n",
      "905:\tlearn: 0.0000414\ttotal: 2m 2s\tremaining: 12.7s\n",
      "906:\tlearn: 0.0000414\ttotal: 2m 2s\tremaining: 12.6s\n",
      "907:\tlearn: 0.0000414\ttotal: 2m 3s\tremaining: 12.5s\n",
      "908:\tlearn: 0.0000414\ttotal: 2m 3s\tremaining: 12.3s\n",
      "909:\tlearn: 0.0000414\ttotal: 2m 3s\tremaining: 12.2s\n",
      "910:\tlearn: 0.0000414\ttotal: 2m 3s\tremaining: 12s\n",
      "911:\tlearn: 0.0000414\ttotal: 2m 3s\tremaining: 11.9s\n",
      "912:\tlearn: 0.0000414\ttotal: 2m 3s\tremaining: 11.8s\n",
      "913:\tlearn: 0.0000414\ttotal: 2m 3s\tremaining: 11.6s\n",
      "914:\tlearn: 0.0000414\ttotal: 2m 3s\tremaining: 11.5s\n",
      "915:\tlearn: 0.0000414\ttotal: 2m 3s\tremaining: 11.4s\n",
      "916:\tlearn: 0.0000414\ttotal: 2m 3s\tremaining: 11.2s\n",
      "917:\tlearn: 0.0000414\ttotal: 2m 4s\tremaining: 11.1s\n",
      "918:\tlearn: 0.0000414\ttotal: 2m 4s\tremaining: 10.9s\n",
      "919:\tlearn: 0.0000414\ttotal: 2m 4s\tremaining: 10.8s\n",
      "920:\tlearn: 0.0000414\ttotal: 2m 4s\tremaining: 10.7s\n",
      "921:\tlearn: 0.0000414\ttotal: 2m 4s\tremaining: 10.5s\n",
      "922:\tlearn: 0.0000414\ttotal: 2m 4s\tremaining: 10.4s\n",
      "923:\tlearn: 0.0000414\ttotal: 2m 4s\tremaining: 10.3s\n",
      "924:\tlearn: 0.0000414\ttotal: 2m 4s\tremaining: 10.1s\n",
      "925:\tlearn: 0.0000414\ttotal: 2m 4s\tremaining: 9.98s\n",
      "926:\tlearn: 0.0000414\ttotal: 2m 4s\tremaining: 9.84s\n",
      "927:\tlearn: 0.0000414\ttotal: 2m 5s\tremaining: 9.71s\n",
      "928:\tlearn: 0.0000414\ttotal: 2m 5s\tremaining: 9.57s\n",
      "929:\tlearn: 0.0000414\ttotal: 2m 5s\tremaining: 9.43s\n",
      "930:\tlearn: 0.0000414\ttotal: 2m 5s\tremaining: 9.3s\n",
      "931:\tlearn: 0.0000414\ttotal: 2m 5s\tremaining: 9.16s\n",
      "932:\tlearn: 0.0000414\ttotal: 2m 5s\tremaining: 9.03s\n",
      "933:\tlearn: 0.0000414\ttotal: 2m 5s\tremaining: 8.89s\n",
      "934:\tlearn: 0.0000414\ttotal: 2m 5s\tremaining: 8.75s\n",
      "935:\tlearn: 0.0000414\ttotal: 2m 6s\tremaining: 8.62s\n",
      "936:\tlearn: 0.0000414\ttotal: 2m 6s\tremaining: 8.48s\n",
      "937:\tlearn: 0.0000414\ttotal: 2m 6s\tremaining: 8.35s\n",
      "938:\tlearn: 0.0000414\ttotal: 2m 6s\tremaining: 8.21s\n",
      "939:\tlearn: 0.0000414\ttotal: 2m 6s\tremaining: 8.07s\n",
      "940:\tlearn: 0.0000414\ttotal: 2m 6s\tremaining: 7.94s\n"
     ]
    },
    {
     "name": "stdout",
     "output_type": "stream",
     "text": [
      "941:\tlearn: 0.0000414\ttotal: 2m 6s\tremaining: 7.8s\n",
      "942:\tlearn: 0.0000414\ttotal: 2m 6s\tremaining: 7.67s\n",
      "943:\tlearn: 0.0000414\ttotal: 2m 6s\tremaining: 7.53s\n",
      "944:\tlearn: 0.0000414\ttotal: 2m 7s\tremaining: 7.39s\n",
      "945:\tlearn: 0.0000414\ttotal: 2m 7s\tremaining: 7.26s\n",
      "946:\tlearn: 0.0000414\ttotal: 2m 7s\tremaining: 7.12s\n",
      "947:\tlearn: 0.0000414\ttotal: 2m 7s\tremaining: 6.99s\n",
      "948:\tlearn: 0.0000414\ttotal: 2m 7s\tremaining: 6.85s\n",
      "949:\tlearn: 0.0000414\ttotal: 2m 7s\tremaining: 6.71s\n",
      "950:\tlearn: 0.0000414\ttotal: 2m 7s\tremaining: 6.58s\n",
      "951:\tlearn: 0.0000414\ttotal: 2m 7s\tremaining: 6.44s\n",
      "952:\tlearn: 0.0000414\ttotal: 2m 7s\tremaining: 6.31s\n",
      "953:\tlearn: 0.0000413\ttotal: 2m 8s\tremaining: 6.17s\n",
      "954:\tlearn: 0.0000413\ttotal: 2m 8s\tremaining: 6.04s\n",
      "955:\tlearn: 0.0000413\ttotal: 2m 8s\tremaining: 5.9s\n",
      "956:\tlearn: 0.0000413\ttotal: 2m 8s\tremaining: 5.77s\n",
      "957:\tlearn: 0.0000413\ttotal: 2m 8s\tremaining: 5.64s\n",
      "958:\tlearn: 0.0000413\ttotal: 2m 8s\tremaining: 5.5s\n",
      "959:\tlearn: 0.0000413\ttotal: 2m 8s\tremaining: 5.37s\n",
      "960:\tlearn: 0.0000413\ttotal: 2m 9s\tremaining: 5.24s\n",
      "961:\tlearn: 0.0000413\ttotal: 2m 9s\tremaining: 5.1s\n",
      "962:\tlearn: 0.0000413\ttotal: 2m 9s\tremaining: 4.97s\n",
      "963:\tlearn: 0.0000413\ttotal: 2m 9s\tremaining: 4.83s\n",
      "964:\tlearn: 0.0000413\ttotal: 2m 9s\tremaining: 4.7s\n",
      "965:\tlearn: 0.0000413\ttotal: 2m 9s\tremaining: 4.56s\n",
      "966:\tlearn: 0.0000413\ttotal: 2m 9s\tremaining: 4.43s\n",
      "967:\tlearn: 0.0000413\ttotal: 2m 9s\tremaining: 4.29s\n",
      "968:\tlearn: 0.0000413\ttotal: 2m 10s\tremaining: 4.16s\n",
      "969:\tlearn: 0.0000413\ttotal: 2m 10s\tremaining: 4.03s\n",
      "970:\tlearn: 0.0000413\ttotal: 2m 10s\tremaining: 3.89s\n",
      "971:\tlearn: 0.0000413\ttotal: 2m 10s\tremaining: 3.75s\n",
      "972:\tlearn: 0.0000413\ttotal: 2m 10s\tremaining: 3.62s\n",
      "973:\tlearn: 0.0000413\ttotal: 2m 10s\tremaining: 3.49s\n",
      "974:\tlearn: 0.0000413\ttotal: 2m 10s\tremaining: 3.35s\n",
      "975:\tlearn: 0.0000413\ttotal: 2m 10s\tremaining: 3.22s\n",
      "976:\tlearn: 0.0000413\ttotal: 2m 10s\tremaining: 3.08s\n",
      "977:\tlearn: 0.0000413\ttotal: 2m 11s\tremaining: 2.95s\n",
      "978:\tlearn: 0.0000413\ttotal: 2m 11s\tremaining: 2.81s\n",
      "979:\tlearn: 0.0000413\ttotal: 2m 11s\tremaining: 2.68s\n",
      "980:\tlearn: 0.0000413\ttotal: 2m 11s\tremaining: 2.54s\n",
      "981:\tlearn: 0.0000413\ttotal: 2m 11s\tremaining: 2.41s\n",
      "982:\tlearn: 0.0000413\ttotal: 2m 11s\tremaining: 2.27s\n",
      "983:\tlearn: 0.0000413\ttotal: 2m 11s\tremaining: 2.14s\n",
      "984:\tlearn: 0.0000413\ttotal: 2m 11s\tremaining: 2.01s\n",
      "985:\tlearn: 0.0000413\ttotal: 2m 11s\tremaining: 1.87s\n",
      "986:\tlearn: 0.0000413\ttotal: 2m 12s\tremaining: 1.74s\n",
      "987:\tlearn: 0.0000413\ttotal: 2m 12s\tremaining: 1.6s\n",
      "988:\tlearn: 0.0000413\ttotal: 2m 12s\tremaining: 1.47s\n",
      "989:\tlearn: 0.0000413\ttotal: 2m 12s\tremaining: 1.34s\n",
      "990:\tlearn: 0.0000413\ttotal: 2m 12s\tremaining: 1.2s\n",
      "991:\tlearn: 0.0000413\ttotal: 2m 12s\tremaining: 1.07s\n",
      "992:\tlearn: 0.0000413\ttotal: 2m 12s\tremaining: 935ms\n",
      "993:\tlearn: 0.0000413\ttotal: 2m 12s\tremaining: 802ms\n",
      "994:\tlearn: 0.0000413\ttotal: 2m 12s\tremaining: 668ms\n",
      "995:\tlearn: 0.0000413\ttotal: 2m 13s\tremaining: 534ms\n",
      "996:\tlearn: 0.0000413\ttotal: 2m 13s\tremaining: 401ms\n",
      "997:\tlearn: 0.0000413\ttotal: 2m 13s\tremaining: 267ms\n",
      "998:\tlearn: 0.0000413\ttotal: 2m 13s\tremaining: 134ms\n",
      "999:\tlearn: 0.0000413\ttotal: 2m 13s\tremaining: 0us\n"
     ]
    },
    {
     "data": {
      "text/plain": [
       "<catboost.core.CatBoostClassifier at 0x7f81049fdd90>"
      ]
     },
     "execution_count": 549,
     "metadata": {},
     "output_type": "execute_result"
    }
   ],
   "source": [
    "model.fit(X_train, y_train)"
   ]
  },
  {
   "cell_type": "markdown",
   "id": "6e0e039e",
   "metadata": {},
   "source": [
    "# 16. Predict"
   ]
  },
  {
   "cell_type": "code",
   "execution_count": 550,
   "id": "a77875bb",
   "metadata": {},
   "outputs": [],
   "source": [
    "train_preds = model.predict_proba(X_train)"
   ]
  },
  {
   "cell_type": "code",
   "execution_count": 551,
   "id": "448ed4a6",
   "metadata": {},
   "outputs": [],
   "source": [
    "ranker_train_predict = ranker_train.copy()"
   ]
  },
  {
   "cell_type": "code",
   "execution_count": 552,
   "id": "83f3001f",
   "metadata": {},
   "outputs": [],
   "source": [
    "ranker_train_predict['proba_item_purchase'] = train_preds[:,1]"
   ]
  },
  {
   "cell_type": "code",
   "execution_count": 553,
   "id": "e48d2e89",
   "metadata": {
    "scrolled": true
   },
   "outputs": [
    {
     "data": {
      "text/html": [
       "<div>\n",
       "<style scoped>\n",
       "    .dataframe tbody tr th:only-of-type {\n",
       "        vertical-align: middle;\n",
       "    }\n",
       "\n",
       "    .dataframe tbody tr th {\n",
       "        vertical-align: top;\n",
       "    }\n",
       "\n",
       "    .dataframe thead th {\n",
       "        text-align: right;\n",
       "    }\n",
       "</style>\n",
       "<table border=\"1\" class=\"dataframe\">\n",
       "  <thead>\n",
       "    <tr style=\"text-align: right;\">\n",
       "      <th></th>\n",
       "      <th>user_id</th>\n",
       "      <th>item_id</th>\n",
       "      <th>target</th>\n",
       "      <th>manufacturer</th>\n",
       "      <th>department</th>\n",
       "      <th>commodity_desc</th>\n",
       "      <th>sub_commodity_desc</th>\n",
       "      <th>curr_size_of_product</th>\n",
       "      <th>age_desc</th>\n",
       "      <th>marital_status_code</th>\n",
       "      <th>...</th>\n",
       "      <th>kid_category_desc</th>\n",
       "      <th>i_quantity_sold</th>\n",
       "      <th>user_total_buy</th>\n",
       "      <th>item_total_sold</th>\n",
       "      <th>user_buy_per_week</th>\n",
       "      <th>u_buy_item_weekly</th>\n",
       "      <th>top_100</th>\n",
       "      <th>top_500</th>\n",
       "      <th>user_buy_popular</th>\n",
       "      <th>proba_item_purchase</th>\n",
       "    </tr>\n",
       "  </thead>\n",
       "  <tbody>\n",
       "    <tr>\n",
       "      <th>0</th>\n",
       "      <td>2070</td>\n",
       "      <td>1088026</td>\n",
       "      <td>0.0</td>\n",
       "      <td>4951</td>\n",
       "      <td>DRUG GM</td>\n",
       "      <td>SINUS AND ALLERGY</td>\n",
       "      <td>SINUS AND ALLERGY</td>\n",
       "      <td></td>\n",
       "      <td>0</td>\n",
       "      <td>U</td>\n",
       "      <td>...</td>\n",
       "      <td>0</td>\n",
       "      <td>17</td>\n",
       "      <td>6981.86</td>\n",
       "      <td>83.79</td>\n",
       "      <td>73.493263</td>\n",
       "      <td>0.0</td>\n",
       "      <td>0</td>\n",
       "      <td>0</td>\n",
       "      <td>0</td>\n",
       "      <td>0.000037</td>\n",
       "    </tr>\n",
       "    <tr>\n",
       "      <th>1</th>\n",
       "      <td>2070</td>\n",
       "      <td>6442443</td>\n",
       "      <td>0.0</td>\n",
       "      <td>378</td>\n",
       "      <td>GROCERY</td>\n",
       "      <td>BAG SNACKS</td>\n",
       "      <td>POTATO CHIPS</td>\n",
       "      <td>10 OZ</td>\n",
       "      <td>0</td>\n",
       "      <td>U</td>\n",
       "      <td>...</td>\n",
       "      <td>0</td>\n",
       "      <td>49</td>\n",
       "      <td>6981.86</td>\n",
       "      <td>128.87</td>\n",
       "      <td>73.493263</td>\n",
       "      <td>0.0</td>\n",
       "      <td>0</td>\n",
       "      <td>0</td>\n",
       "      <td>0</td>\n",
       "      <td>0.000005</td>\n",
       "    </tr>\n",
       "    <tr>\n",
       "      <th>2</th>\n",
       "      <td>2070</td>\n",
       "      <td>9245184</td>\n",
       "      <td>0.0</td>\n",
       "      <td>1025</td>\n",
       "      <td>DELI</td>\n",
       "      <td>SANDWICHES</td>\n",
       "      <td>SANDWICHES - (COLD)</td>\n",
       "      <td></td>\n",
       "      <td>0</td>\n",
       "      <td>U</td>\n",
       "      <td>...</td>\n",
       "      <td>0</td>\n",
       "      <td>2</td>\n",
       "      <td>6981.86</td>\n",
       "      <td>11.98</td>\n",
       "      <td>73.493263</td>\n",
       "      <td>0.0</td>\n",
       "      <td>0</td>\n",
       "      <td>0</td>\n",
       "      <td>0</td>\n",
       "      <td>0.000030</td>\n",
       "    </tr>\n",
       "  </tbody>\n",
       "</table>\n",
       "<p>3 rows × 24 columns</p>\n",
       "</div>"
      ],
      "text/plain": [
       "   user_id  item_id  target  manufacturer department     commodity_desc  \\\n",
       "0     2070  1088026     0.0          4951    DRUG GM  SINUS AND ALLERGY   \n",
       "1     2070  6442443     0.0           378    GROCERY         BAG SNACKS   \n",
       "2     2070  9245184     0.0          1025       DELI         SANDWICHES   \n",
       "\n",
       "    sub_commodity_desc curr_size_of_product  age_desc marital_status_code  \\\n",
       "0    SINUS AND ALLERGY                              0                   U   \n",
       "1         POTATO CHIPS                10 OZ         0                   U   \n",
       "2  SANDWICHES - (COLD)                              0                   U   \n",
       "\n",
       "   ... kid_category_desc i_quantity_sold user_total_buy item_total_sold  \\\n",
       "0  ...                 0              17        6981.86           83.79   \n",
       "1  ...                 0              49        6981.86          128.87   \n",
       "2  ...                 0               2        6981.86           11.98   \n",
       "\n",
       "   user_buy_per_week  u_buy_item_weekly  top_100  top_500  user_buy_popular  \\\n",
       "0          73.493263                0.0        0        0                 0   \n",
       "1          73.493263                0.0        0        0                 0   \n",
       "2          73.493263                0.0        0        0                 0   \n",
       "\n",
       "   proba_item_purchase  \n",
       "0             0.000037  \n",
       "1             0.000005  \n",
       "2             0.000030  \n",
       "\n",
       "[3 rows x 24 columns]"
      ]
     },
     "execution_count": 553,
     "metadata": {},
     "output_type": "execute_result"
    }
   ],
   "source": [
    "ranker_train_predict.head(3)"
   ]
  },
  {
   "cell_type": "markdown",
   "id": "f6d6aea5",
   "metadata": {},
   "source": [
    "# 17. Train Ranking"
   ]
  },
  {
   "cell_type": "code",
   "execution_count": 554,
   "id": "2d86d615",
   "metadata": {},
   "outputs": [
    {
     "data": {
      "text/html": [
       "<div>\n",
       "<style scoped>\n",
       "    .dataframe tbody tr th:only-of-type {\n",
       "        vertical-align: middle;\n",
       "    }\n",
       "\n",
       "    .dataframe tbody tr th {\n",
       "        vertical-align: top;\n",
       "    }\n",
       "\n",
       "    .dataframe thead th {\n",
       "        text-align: right;\n",
       "    }\n",
       "</style>\n",
       "<table border=\"1\" class=\"dataframe\">\n",
       "  <thead>\n",
       "    <tr style=\"text-align: right;\">\n",
       "      <th></th>\n",
       "      <th>user_id</th>\n",
       "      <th>actual</th>\n",
       "    </tr>\n",
       "  </thead>\n",
       "  <tbody>\n",
       "    <tr>\n",
       "      <th>0</th>\n",
       "      <td>1</td>\n",
       "      <td>[821867, 834484, 856942, 865456, 889248, 90795...</td>\n",
       "    </tr>\n",
       "    <tr>\n",
       "      <th>1</th>\n",
       "      <td>3</td>\n",
       "      <td>[835476, 851057, 872021, 878302, 879948, 90963...</td>\n",
       "    </tr>\n",
       "    <tr>\n",
       "      <th>2</th>\n",
       "      <td>6</td>\n",
       "      <td>[920308, 926804, 946489, 1006718, 1017061, 107...</td>\n",
       "    </tr>\n",
       "  </tbody>\n",
       "</table>\n",
       "</div>"
      ],
      "text/plain": [
       "   user_id                                             actual\n",
       "0        1  [821867, 834484, 856942, 865456, 889248, 90795...\n",
       "1        3  [835476, 851057, 872021, 878302, 879948, 90963...\n",
       "2        6  [920308, 926804, 946489, 1006718, 1017061, 107..."
      ]
     },
     "execution_count": 554,
     "metadata": {},
     "output_type": "execute_result"
    }
   ],
   "source": [
    "result_val_ranker = val_ranker.groupby(USER_COL)[ITEM_COL].unique().reset_index()\n",
    "result_val_ranker.columns=[USER_COL, ACTUAL_COL]\n",
    "result_val_ranker.head(3)"
   ]
  },
  {
   "cell_type": "code",
   "execution_count": 555,
   "id": "2c7edc3f",
   "metadata": {},
   "outputs": [
    {
     "name": "stderr",
     "output_type": "stream",
     "text": [
      "100%|██████████| 2040/2040 [00:04<00:00, 430.96it/s]\n"
     ]
    }
   ],
   "source": [
    "result_val_ranker['own_rec'] = result_val_ranker[USER_COL].progress_apply(lambda x: recommender.get_own_recommendations(x, N=N_PREDICT))"
   ]
  },
  {
   "cell_type": "code",
   "execution_count": 556,
   "id": "2dc30359",
   "metadata": {},
   "outputs": [
    {
     "name": "stderr",
     "output_type": "stream",
     "text": [
      "100%|██████████| 2040/2040 [00:01<00:00, 1469.81it/s]\n"
     ]
    }
   ],
   "source": [
    "result_val_ranker['reranked_own_rec'] = result_val_ranker[USER_COL].progress_apply(lambda user_id: rerank_long(user_id, ranker_train_predict))"
   ]
  },
  {
   "cell_type": "markdown",
   "id": "bf8a2745",
   "metadata": {},
   "source": [
    "# 18. Train Validation"
   ]
  },
  {
   "cell_type": "code",
   "execution_count": 557,
   "id": "0ac14641",
   "metadata": {},
   "outputs": [
    {
     "name": "stderr",
     "output_type": "stream",
     "text": [
      "/Users/kensei/Downloads/webinar_6/metrics.py:23: RuntimeWarning: invalid value encountered in long_scalars\n",
      "  return flags.sum() / len(recommended_list)\n"
     ]
    },
    {
     "name": "stdout",
     "output_type": "stream",
     "text": [
      "('reranked_own_rec', 0.13671018276762403)\n",
      "('own_rec', 0.058823529411764705)\n"
     ]
    }
   ],
   "source": [
    "print(*sorted(calc_precision(result_val_ranker, TOPK_PRECISION), key=lambda x: x[1], reverse=True), sep='\\n')"
   ]
  },
  {
   "cell_type": "markdown",
   "id": "c685a702",
   "metadata": {},
   "source": [
    "# 19. Test Reccomend and Ranking"
   ]
  },
  {
   "cell_type": "code",
   "execution_count": 558,
   "id": "8139273c",
   "metadata": {},
   "outputs": [],
   "source": [
    "test_1 = pd.read_csv(\"retail_test1.csv\")\n",
    "df_transactions = pd.read_csv('retail_train.csv')"
   ]
  },
  {
   "cell_type": "code",
   "execution_count": 559,
   "id": "6080e414",
   "metadata": {
    "scrolled": true
   },
   "outputs": [
    {
     "data": {
      "text/html": [
       "<div>\n",
       "<style scoped>\n",
       "    .dataframe tbody tr th:only-of-type {\n",
       "        vertical-align: middle;\n",
       "    }\n",
       "\n",
       "    .dataframe tbody tr th {\n",
       "        vertical-align: top;\n",
       "    }\n",
       "\n",
       "    .dataframe thead th {\n",
       "        text-align: right;\n",
       "    }\n",
       "</style>\n",
       "<table border=\"1\" class=\"dataframe\">\n",
       "  <thead>\n",
       "    <tr style=\"text-align: right;\">\n",
       "      <th></th>\n",
       "      <th>user_id</th>\n",
       "      <th>actual</th>\n",
       "    </tr>\n",
       "  </thead>\n",
       "  <tbody>\n",
       "    <tr>\n",
       "      <th>0</th>\n",
       "      <td>1</td>\n",
       "      <td>[880007, 883616, 931136, 938004, 940947, 94726...</td>\n",
       "    </tr>\n",
       "    <tr>\n",
       "      <th>1</th>\n",
       "      <td>2</td>\n",
       "      <td>[820165, 820291, 826784, 826835, 829009, 85784...</td>\n",
       "    </tr>\n",
       "    <tr>\n",
       "      <th>2</th>\n",
       "      <td>3</td>\n",
       "      <td>[827683, 908531, 989069, 1071377, 1080155, 109...</td>\n",
       "    </tr>\n",
       "  </tbody>\n",
       "</table>\n",
       "</div>"
      ],
      "text/plain": [
       "   user_id                                             actual\n",
       "0        1  [880007, 883616, 931136, 938004, 940947, 94726...\n",
       "1        2  [820165, 820291, 826784, 826835, 829009, 85784...\n",
       "2        3  [827683, 908531, 989069, 1071377, 1080155, 109..."
      ]
     },
     "execution_count": 559,
     "metadata": {},
     "output_type": "execute_result"
    }
   ],
   "source": [
    "result_test = test_1.groupby(USER_COL)[ITEM_COL].unique().reset_index()\n",
    "result_test.columns=[USER_COL, ACTUAL_COL]\n",
    "result_test = result_test[result_test['user_id'].isin(common_users)]\n",
    "result_test.head(3)"
   ]
  },
  {
   "cell_type": "code",
   "execution_count": 560,
   "id": "0131a83e",
   "metadata": {},
   "outputs": [
    {
     "name": "stderr",
     "output_type": "stream",
     "text": [
      "100%|██████████| 1883/1883 [00:05<00:00, 344.00it/s]\n"
     ]
    }
   ],
   "source": [
    "result_test['als_rec'] = result_test[USER_COL].progress_apply(lambda x: recommender.get_als_recommendations(x, N=N_PREDICT))"
   ]
  },
  {
   "cell_type": "code",
   "execution_count": 561,
   "id": "4ea25d70",
   "metadata": {},
   "outputs": [
    {
     "name": "stderr",
     "output_type": "stream",
     "text": [
      "100%|██████████| 1883/1883 [00:03<00:00, 496.85it/s]\n"
     ]
    }
   ],
   "source": [
    "result_test['own_rec'] = result_test[USER_COL].progress_apply(lambda x: recommender.get_own_recommendations(x, N=N_PREDICT))"
   ]
  },
  {
   "cell_type": "code",
   "execution_count": 562,
   "id": "03b28d0f",
   "metadata": {},
   "outputs": [
    {
     "name": "stderr",
     "output_type": "stream",
     "text": [
      "100%|██████████| 1883/1883 [00:01<00:00, 1466.14it/s]\n"
     ]
    }
   ],
   "source": [
    "result_test['reranked_own_rec'] = result_test[USER_COL].progress_apply(lambda user_id: rerank_long(user_id, ranker_train_predict=ranker_train_predict))"
   ]
  },
  {
   "cell_type": "markdown",
   "id": "f083dd45",
   "metadata": {},
   "source": [
    "# 20. TEST RANKING SCORE"
   ]
  },
  {
   "cell_type": "code",
   "execution_count": 563,
   "id": "7d2e8fbb",
   "metadata": {},
   "outputs": [
    {
     "name": "stdout",
     "output_type": "stream",
     "text": [
      "reranked_own_rec : 0.10608108108108108\n",
      "als_rec : 0.09283058948486457\n",
      "own_rec : 0.04907063197026022\n"
     ]
    },
    {
     "name": "stderr",
     "output_type": "stream",
     "text": [
      "/Users/kensei/Downloads/webinar_6/metrics.py:23: RuntimeWarning: invalid value encountered in long_scalars\n",
      "  return flags.sum() / len(recommended_list)\n"
     ]
    }
   ],
   "source": [
    "for i in sorted(calc_precision(result_test, TOPK_PRECISION), key=lambda x: x[1], reverse=True,):\n",
    "    print(i[0],':',i[1])"
   ]
  },
  {
   "cell_type": "code",
   "execution_count": 564,
   "id": "fe527929",
   "metadata": {},
   "outputs": [
    {
     "name": "stdout",
     "output_type": "stream",
     "text": [
      "reranked_own_rec : 0.10608108108108108\n",
      "als_rec : 0.06760488582049921\n",
      "own_rec : 0.03271375464684015\n"
     ]
    }
   ],
   "source": [
    "TOPK_PRECISION = 10\n",
    "for i in sorted(calc_precision(result_test, TOPK_PRECISION), key=lambda x: x[1], reverse=True,):\n",
    "    print(i[0],':',i[1])"
   ]
  },
  {
   "cell_type": "code",
   "execution_count": 565,
   "id": "242d0ae1",
   "metadata": {},
   "outputs": [
    {
     "name": "stdout",
     "output_type": "stream",
     "text": [
      "reranked_own_rec : 0.10608108108108108\n",
      "als_rec : 0.04723844928305894\n",
      "own_rec : 0.022198619224641527\n"
     ]
    }
   ],
   "source": [
    "TOPK_PRECISION = 20\n",
    "for i in sorted(calc_precision(result_test, TOPK_PRECISION), key=lambda x: x[1], reverse=True,):\n",
    "    print(i[0],':',i[1])"
   ]
  },
  {
   "cell_type": "markdown",
   "id": "2837e4df",
   "metadata": {},
   "source": [
    "# 21. Safe result"
   ]
  },
  {
   "cell_type": "code",
   "execution_count": 566,
   "id": "1a0f8483",
   "metadata": {},
   "outputs": [],
   "source": [
    "params = model._get_params()\n",
    "params['feautures'] = list(X_train.columns)\n",
    "params['feautures_len'] = len(list(X_train.columns))\n",
    "params['N_PREDICT'] = N_PREDICT\n",
    "params['index_drop'] = CLEAN_\n",
    "params['n_popular'] = _n_popular\n",
    "params['valideted_train'] = True # it means we did split for train and val parts before test\n",
    "params['reranked_own_rec'] = sorted(calc_precision(result_test, TOPK_PRECISION), key=lambda x: x[1], reverse=True)[0][1]"
   ]
  },
  {
   "cell_type": "code",
   "execution_count": 2,
   "id": "02eb2ed6",
   "metadata": {},
   "outputs": [],
   "source": [
    "my_progress_df = pd.read_csv('results.csv')#\n",
    "# my_progress_df = my_progress_df.append(params, ignore_index=True)"
   ]
  },
  {
   "cell_type": "code",
   "execution_count": 568,
   "id": "dabdfe2d",
   "metadata": {},
   "outputs": [],
   "source": [
    "# my_progress_df = my_progress_df[['depth', 'iterations', 'l2_leaf_reg', 'learning_rate', 'loss_function',\n",
    "#        'feautures', 'feautures_len', 'N_PREDICT', 'index_drop', 'n_popular',\n",
    "#        'valideted_train',  'cat_features','reranked_own_rec',]]"
   ]
  },
  {
   "cell_type": "code",
   "execution_count": 6,
   "id": "7ad76591",
   "metadata": {},
   "outputs": [
    {
     "data": {
      "text/html": [
       "<div>\n",
       "<style scoped>\n",
       "    .dataframe tbody tr th:only-of-type {\n",
       "        vertical-align: middle;\n",
       "    }\n",
       "\n",
       "    .dataframe tbody tr th {\n",
       "        vertical-align: top;\n",
       "    }\n",
       "\n",
       "    .dataframe thead th {\n",
       "        text-align: right;\n",
       "    }\n",
       "</style>\n",
       "<table border=\"1\" class=\"dataframe\">\n",
       "  <thead>\n",
       "    <tr style=\"text-align: right;\">\n",
       "      <th></th>\n",
       "      <th>depth</th>\n",
       "      <th>iterations</th>\n",
       "      <th>l2_leaf_reg</th>\n",
       "      <th>learning_rate</th>\n",
       "      <th>loss_function</th>\n",
       "      <th>feautures</th>\n",
       "      <th>feautures_len</th>\n",
       "      <th>N_PREDICT</th>\n",
       "      <th>index_drop</th>\n",
       "      <th>n_popular</th>\n",
       "      <th>valideted_train</th>\n",
       "      <th>cat_features</th>\n",
       "      <th>reranked_own_rec</th>\n",
       "    </tr>\n",
       "  </thead>\n",
       "  <tbody>\n",
       "    <tr>\n",
       "      <th>109</th>\n",
       "      <td>10</td>\n",
       "      <td>1000</td>\n",
       "      <td>5</td>\n",
       "      <td>0.1</td>\n",
       "      <td>Logloss</td>\n",
       "      <td>['user_id', 'item_id', 'manufacturer', 'age_de...</td>\n",
       "      <td>20</td>\n",
       "      <td>580</td>\n",
       "      <td>0</td>\n",
       "      <td>11000</td>\n",
       "      <td>True</td>\n",
       "      <td>['marital_status_code', 'income_desc', 'homeow...</td>\n",
       "      <td>0.164302</td>\n",
       "    </tr>\n",
       "    <tr>\n",
       "      <th>105</th>\n",
       "      <td>10</td>\n",
       "      <td>1000</td>\n",
       "      <td>5</td>\n",
       "      <td>0.1</td>\n",
       "      <td>Logloss</td>\n",
       "      <td>['user_id', 'item_id', 'manufacturer', 'age_de...</td>\n",
       "      <td>20</td>\n",
       "      <td>540</td>\n",
       "      <td>0</td>\n",
       "      <td>11000</td>\n",
       "      <td>True</td>\n",
       "      <td>['marital_status_code', 'income_desc', 'homeow...</td>\n",
       "      <td>0.159685</td>\n",
       "    </tr>\n",
       "    <tr>\n",
       "      <th>121</th>\n",
       "      <td>10</td>\n",
       "      <td>1000</td>\n",
       "      <td>5</td>\n",
       "      <td>0.1</td>\n",
       "      <td>Logloss</td>\n",
       "      <td>['user_id', 'item_id', 'manufacturer', 'age_de...</td>\n",
       "      <td>20</td>\n",
       "      <td>490</td>\n",
       "      <td>0</td>\n",
       "      <td>12000</td>\n",
       "      <td>True</td>\n",
       "      <td>['marital_status_code', 'income_desc', 'homeow...</td>\n",
       "      <td>0.159459</td>\n",
       "    </tr>\n",
       "    <tr>\n",
       "      <th>131</th>\n",
       "      <td>10</td>\n",
       "      <td>1000</td>\n",
       "      <td>5</td>\n",
       "      <td>0.1</td>\n",
       "      <td>Logloss</td>\n",
       "      <td>['user_id', 'item_id', 'manufacturer', 'age_de...</td>\n",
       "      <td>20</td>\n",
       "      <td>590</td>\n",
       "      <td>0</td>\n",
       "      <td>12000</td>\n",
       "      <td>True</td>\n",
       "      <td>['marital_status_code', 'income_desc', 'homeow...</td>\n",
       "      <td>0.158671</td>\n",
       "    </tr>\n",
       "    <tr>\n",
       "      <th>193</th>\n",
       "      <td>10</td>\n",
       "      <td>1000</td>\n",
       "      <td>5</td>\n",
       "      <td>0.1</td>\n",
       "      <td>Logloss</td>\n",
       "      <td>['user_id', 'item_id', 'manufacturer', 'age_de...</td>\n",
       "      <td>20</td>\n",
       "      <td>580</td>\n",
       "      <td>0</td>\n",
       "      <td>15000</td>\n",
       "      <td>True</td>\n",
       "      <td>['marital_status_code', 'income_desc', 'homeow...</td>\n",
       "      <td>0.156757</td>\n",
       "    </tr>\n",
       "    <tr>\n",
       "      <th>214</th>\n",
       "      <td>10</td>\n",
       "      <td>1000</td>\n",
       "      <td>5</td>\n",
       "      <td>0.1</td>\n",
       "      <td>Logloss</td>\n",
       "      <td>['user_id', 'item_id', 'manufacturer', 'age_de...</td>\n",
       "      <td>20</td>\n",
       "      <td>580</td>\n",
       "      <td>0</td>\n",
       "      <td>16000</td>\n",
       "      <td>True</td>\n",
       "      <td>['marital_status_code', 'income_desc', 'homeow...</td>\n",
       "      <td>0.156194</td>\n",
       "    </tr>\n",
       "    <tr>\n",
       "      <th>106</th>\n",
       "      <td>10</td>\n",
       "      <td>1000</td>\n",
       "      <td>5</td>\n",
       "      <td>0.1</td>\n",
       "      <td>Logloss</td>\n",
       "      <td>['user_id', 'item_id', 'manufacturer', 'age_de...</td>\n",
       "      <td>20</td>\n",
       "      <td>550</td>\n",
       "      <td>0</td>\n",
       "      <td>11000</td>\n",
       "      <td>True</td>\n",
       "      <td>['marital_status_code', 'income_desc', 'homeow...</td>\n",
       "      <td>0.155293</td>\n",
       "    </tr>\n",
       "    <tr>\n",
       "      <th>97</th>\n",
       "      <td>10</td>\n",
       "      <td>1000</td>\n",
       "      <td>5</td>\n",
       "      <td>0.1</td>\n",
       "      <td>Logloss</td>\n",
       "      <td>['user_id', 'item_id', 'manufacturer', 'age_de...</td>\n",
       "      <td>20</td>\n",
       "      <td>460</td>\n",
       "      <td>0</td>\n",
       "      <td>11000</td>\n",
       "      <td>True</td>\n",
       "      <td>['marital_status_code', 'income_desc', 'homeow...</td>\n",
       "      <td>0.154617</td>\n",
       "    </tr>\n",
       "    <tr>\n",
       "      <th>225</th>\n",
       "      <td>10</td>\n",
       "      <td>1000</td>\n",
       "      <td>5</td>\n",
       "      <td>0.1</td>\n",
       "      <td>Logloss</td>\n",
       "      <td>['user_id', 'item_id', 'manufacturer', 'age_de...</td>\n",
       "      <td>20</td>\n",
       "      <td>480</td>\n",
       "      <td>0</td>\n",
       "      <td>17000</td>\n",
       "      <td>True</td>\n",
       "      <td>['marital_status_code', 'income_desc', 'homeow...</td>\n",
       "      <td>0.154279</td>\n",
       "    </tr>\n",
       "    <tr>\n",
       "      <th>140</th>\n",
       "      <td>10</td>\n",
       "      <td>1000</td>\n",
       "      <td>5</td>\n",
       "      <td>0.1</td>\n",
       "      <td>Logloss</td>\n",
       "      <td>['user_id', 'item_id', 'manufacturer', 'age_de...</td>\n",
       "      <td>20</td>\n",
       "      <td>470</td>\n",
       "      <td>0</td>\n",
       "      <td>13000</td>\n",
       "      <td>True</td>\n",
       "      <td>['marital_status_code', 'income_desc', 'homeow...</td>\n",
       "      <td>0.154054</td>\n",
       "    </tr>\n",
       "  </tbody>\n",
       "</table>\n",
       "</div>"
      ],
      "text/plain": [
       "    depth iterations l2_leaf_reg learning_rate loss_function  \\\n",
       "109    10       1000           5           0.1       Logloss   \n",
       "105    10       1000           5           0.1       Logloss   \n",
       "121    10       1000           5           0.1       Logloss   \n",
       "131    10       1000           5           0.1       Logloss   \n",
       "193    10       1000           5           0.1       Logloss   \n",
       "214    10       1000           5           0.1       Logloss   \n",
       "106    10       1000           5           0.1       Logloss   \n",
       "97     10       1000           5           0.1       Logloss   \n",
       "225    10       1000           5           0.1       Logloss   \n",
       "140    10       1000           5           0.1       Logloss   \n",
       "\n",
       "                                             feautures  feautures_len  \\\n",
       "109  ['user_id', 'item_id', 'manufacturer', 'age_de...             20   \n",
       "105  ['user_id', 'item_id', 'manufacturer', 'age_de...             20   \n",
       "121  ['user_id', 'item_id', 'manufacturer', 'age_de...             20   \n",
       "131  ['user_id', 'item_id', 'manufacturer', 'age_de...             20   \n",
       "193  ['user_id', 'item_id', 'manufacturer', 'age_de...             20   \n",
       "214  ['user_id', 'item_id', 'manufacturer', 'age_de...             20   \n",
       "106  ['user_id', 'item_id', 'manufacturer', 'age_de...             20   \n",
       "97   ['user_id', 'item_id', 'manufacturer', 'age_de...             20   \n",
       "225  ['user_id', 'item_id', 'manufacturer', 'age_de...             20   \n",
       "140  ['user_id', 'item_id', 'manufacturer', 'age_de...             20   \n",
       "\n",
       "     N_PREDICT  index_drop  n_popular  valideted_train  \\\n",
       "109        580           0      11000             True   \n",
       "105        540           0      11000             True   \n",
       "121        490           0      12000             True   \n",
       "131        590           0      12000             True   \n",
       "193        580           0      15000             True   \n",
       "214        580           0      16000             True   \n",
       "106        550           0      11000             True   \n",
       "97         460           0      11000             True   \n",
       "225        480           0      17000             True   \n",
       "140        470           0      13000             True   \n",
       "\n",
       "                                          cat_features  reranked_own_rec  \n",
       "109  ['marital_status_code', 'income_desc', 'homeow...          0.164302  \n",
       "105  ['marital_status_code', 'income_desc', 'homeow...          0.159685  \n",
       "121  ['marital_status_code', 'income_desc', 'homeow...          0.159459  \n",
       "131  ['marital_status_code', 'income_desc', 'homeow...          0.158671  \n",
       "193  ['marital_status_code', 'income_desc', 'homeow...          0.156757  \n",
       "214  ['marital_status_code', 'income_desc', 'homeow...          0.156194  \n",
       "106  ['marital_status_code', 'income_desc', 'homeow...          0.155293  \n",
       "97   ['marital_status_code', 'income_desc', 'homeow...          0.154617  \n",
       "225  ['marital_status_code', 'income_desc', 'homeow...          0.154279  \n",
       "140  ['marital_status_code', 'income_desc', 'homeow...          0.154054  "
      ]
     },
     "execution_count": 6,
     "metadata": {},
     "output_type": "execute_result"
    }
   ],
   "source": [
    "my_progress_df.sort_values('reranked_own_rec', ascending=False).head(10)"
   ]
  },
  {
   "cell_type": "code",
   "execution_count": 570,
   "id": "fef7a27b",
   "metadata": {},
   "outputs": [],
   "source": [
    "my_progress_df.to_csv('results.csv', index=False)"
   ]
  },
  {
   "cell_type": "code",
   "execution_count": null,
   "id": "20e5889e",
   "metadata": {},
   "outputs": [],
   "source": []
  }
 ],
 "metadata": {
  "kernelspec": {
   "display_name": "Python 3",
   "language": "python",
   "name": "python3"
  },
  "language_info": {
   "codemirror_mode": {
    "name": "ipython",
    "version": 3
   },
   "file_extension": ".py",
   "mimetype": "text/x-python",
   "name": "python",
   "nbconvert_exporter": "python",
   "pygments_lexer": "ipython3",
   "version": "3.9.5"
  }
 },
 "nbformat": 4,
 "nbformat_minor": 5
}
